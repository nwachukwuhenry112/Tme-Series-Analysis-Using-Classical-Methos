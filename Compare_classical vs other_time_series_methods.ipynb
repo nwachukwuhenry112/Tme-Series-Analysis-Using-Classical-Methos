{
 "cells": [
  {
   "cell_type": "code",
   "execution_count": 1,
   "metadata": {},
   "outputs": [
    {
     "data": {
      "text/plain": [
       "'C:\\\\Users\\\\Henry\\\\Classical vs others_time_series_methods'"
      ]
     },
     "execution_count": 1,
     "metadata": {},
     "output_type": "execute_result"
    }
   ],
   "source": [
    "pwd"
   ]
  },
  {
   "cell_type": "markdown",
   "metadata": {},
   "source": [
    "Analytical comparison of simulation accuracy of a time series using Classical,\n",
    "Vector Auto Regression, Auto Regression Moving Average, Reconvolutional Neural Network and Facebook Prophet\n",
    "\n",
    "By Nwachukwu Henry\n",
    "\n",
    "EvolveU IT Center\n",
    "Calgary. 2021"
   ]
  },
  {
   "cell_type": "code",
   "execution_count": 2,
   "metadata": {},
   "outputs": [],
   "source": [
    "import pandas as pd\n",
    "import pandas as pd\n",
    "import numpy as np\n",
    "import matplotlib.pyplot as plt \n",
    "\n",
    "\n",
    "from statsmodels.tsa.statespace.sarimax import SARIMAX"
   ]
  },
  {
   "cell_type": "code",
   "execution_count": 3,
   "metadata": {},
   "outputs": [
    {
     "data": {
      "text/html": [
       "<div>\n",
       "<style scoped>\n",
       "    .dataframe tbody tr th:only-of-type {\n",
       "        vertical-align: middle;\n",
       "    }\n",
       "\n",
       "    .dataframe tbody tr th {\n",
       "        vertical-align: top;\n",
       "    }\n",
       "\n",
       "    .dataframe thead th {\n",
       "        text-align: right;\n",
       "    }\n",
       "</style>\n",
       "<table border=\"1\" class=\"dataframe\">\n",
       "  <thead>\n",
       "    <tr style=\"text-align: right;\">\n",
       "      <th></th>\n",
       "      <th>date</th>\n",
       "      <th>spx</th>\n",
       "      <th>dax</th>\n",
       "      <th>ftse</th>\n",
       "      <th>nikkei</th>\n",
       "    </tr>\n",
       "  </thead>\n",
       "  <tbody>\n",
       "    <tr>\n",
       "      <th>6264</th>\n",
       "      <td>23/01/2018</td>\n",
       "      <td>2839.130362</td>\n",
       "      <td>13559.60</td>\n",
       "      <td>7731.827774</td>\n",
       "      <td>24124.15</td>\n",
       "    </tr>\n",
       "    <tr>\n",
       "      <th>6265</th>\n",
       "      <td>24/01/2018</td>\n",
       "      <td>2837.544008</td>\n",
       "      <td>13414.74</td>\n",
       "      <td>7643.428966</td>\n",
       "      <td>23940.78</td>\n",
       "    </tr>\n",
       "    <tr>\n",
       "      <th>6266</th>\n",
       "      <td>25/01/2018</td>\n",
       "      <td>2839.253031</td>\n",
       "      <td>13298.36</td>\n",
       "      <td>7615.839954</td>\n",
       "      <td>23669.49</td>\n",
       "    </tr>\n",
       "    <tr>\n",
       "      <th>6267</th>\n",
       "      <td>26/01/2018</td>\n",
       "      <td>2872.867839</td>\n",
       "      <td>13340.17</td>\n",
       "      <td>7665.541292</td>\n",
       "      <td>23631.88</td>\n",
       "    </tr>\n",
       "    <tr>\n",
       "      <th>6268</th>\n",
       "      <td>29/01/2018</td>\n",
       "      <td>2853.528411</td>\n",
       "      <td>13324.48</td>\n",
       "      <td>7671.533300</td>\n",
       "      <td>23629.34</td>\n",
       "    </tr>\n",
       "  </tbody>\n",
       "</table>\n",
       "</div>"
      ],
      "text/plain": [
       "            date          spx       dax         ftse    nikkei\n",
       "6264  23/01/2018  2839.130362  13559.60  7731.827774  24124.15\n",
       "6265  24/01/2018  2837.544008  13414.74  7643.428966  23940.78\n",
       "6266  25/01/2018  2839.253031  13298.36  7615.839954  23669.49\n",
       "6267  26/01/2018  2872.867839  13340.17  7665.541292  23631.88\n",
       "6268  29/01/2018  2853.528411  13324.48  7671.533300  23629.34"
      ]
     },
     "execution_count": 3,
     "metadata": {},
     "output_type": "execute_result"
    }
   ],
   "source": [
    "data = pd.read_csv('select_stock.csv')\n",
    "data.tail()"
   ]
  },
  {
   "cell_type": "raw",
   "metadata": {},
   "source": [
    "# This paper will be focusing more at spx as the reference for the study."
   ]
  },
  {
   "cell_type": "code",
   "execution_count": 4,
   "metadata": {},
   "outputs": [
    {
     "data": {
      "text/plain": [
       "array(['date', 'spx', 'dax', 'ftse', 'nikkei'], dtype=object)"
      ]
     },
     "execution_count": 4,
     "metadata": {},
     "output_type": "execute_result"
    }
   ],
   "source": [
    "# convert columns to integers\n",
    "data.columns.values"
   ]
  },
  {
   "cell_type": "code",
   "execution_count": 5,
   "metadata": {},
   "outputs": [],
   "source": [
    "cols = ['spx', 'dax', 'ftse', 'nikkei']"
   ]
  },
  {
   "cell_type": "code",
   "execution_count": 6,
   "metadata": {},
   "outputs": [],
   "source": [
    "for columns in cols:\n",
    "    data[columns] = data[columns].astype(int)"
   ]
  },
  {
   "cell_type": "code",
   "execution_count": 7,
   "metadata": {},
   "outputs": [
    {
     "data": {
      "text/html": [
       "<div>\n",
       "<style scoped>\n",
       "    .dataframe tbody tr th:only-of-type {\n",
       "        vertical-align: middle;\n",
       "    }\n",
       "\n",
       "    .dataframe tbody tr th {\n",
       "        vertical-align: top;\n",
       "    }\n",
       "\n",
       "    .dataframe thead th {\n",
       "        text-align: right;\n",
       "    }\n",
       "</style>\n",
       "<table border=\"1\" class=\"dataframe\">\n",
       "  <thead>\n",
       "    <tr style=\"text-align: right;\">\n",
       "      <th></th>\n",
       "      <th>date</th>\n",
       "      <th>spx</th>\n",
       "      <th>dax</th>\n",
       "      <th>ftse</th>\n",
       "      <th>nikkei</th>\n",
       "    </tr>\n",
       "  </thead>\n",
       "  <tbody>\n",
       "    <tr>\n",
       "      <th>0</th>\n",
       "      <td>07/01/1994</td>\n",
       "      <td>469</td>\n",
       "      <td>2224</td>\n",
       "      <td>3445</td>\n",
       "      <td>18124</td>\n",
       "    </tr>\n",
       "    <tr>\n",
       "      <th>1</th>\n",
       "      <td>10/01/1994</td>\n",
       "      <td>475</td>\n",
       "      <td>2225</td>\n",
       "      <td>3440</td>\n",
       "      <td>18443</td>\n",
       "    </tr>\n",
       "    <tr>\n",
       "      <th>2</th>\n",
       "      <td>11/01/1994</td>\n",
       "      <td>474</td>\n",
       "      <td>2228</td>\n",
       "      <td>3413</td>\n",
       "      <td>18485</td>\n",
       "    </tr>\n",
       "    <tr>\n",
       "      <th>3</th>\n",
       "      <td>12/01/1994</td>\n",
       "      <td>474</td>\n",
       "      <td>2182</td>\n",
       "      <td>3372</td>\n",
       "      <td>18793</td>\n",
       "    </tr>\n",
       "    <tr>\n",
       "      <th>4</th>\n",
       "      <td>13/01/1994</td>\n",
       "      <td>472</td>\n",
       "      <td>2142</td>\n",
       "      <td>3360</td>\n",
       "      <td>18577</td>\n",
       "    </tr>\n",
       "  </tbody>\n",
       "</table>\n",
       "</div>"
      ],
      "text/plain": [
       "         date  spx   dax  ftse  nikkei\n",
       "0  07/01/1994  469  2224  3445   18124\n",
       "1  10/01/1994  475  2225  3440   18443\n",
       "2  11/01/1994  474  2228  3413   18485\n",
       "3  12/01/1994  474  2182  3372   18793\n",
       "4  13/01/1994  472  2142  3360   18577"
      ]
     },
     "execution_count": 7,
     "metadata": {},
     "output_type": "execute_result"
    }
   ],
   "source": [
    " data.head(5)"
   ]
  },
  {
   "cell_type": "code",
   "execution_count": 8,
   "metadata": {},
   "outputs": [
    {
     "name": "stdout",
     "output_type": "stream",
     "text": [
      "<class 'pandas.core.frame.DataFrame'>\n",
      "RangeIndex: 6269 entries, 0 to 6268\n",
      "Data columns (total 5 columns):\n",
      " #   Column  Non-Null Count  Dtype \n",
      "---  ------  --------------  ----- \n",
      " 0   date    6269 non-null   object\n",
      " 1   spx     6269 non-null   int32 \n",
      " 2   dax     6269 non-null   int32 \n",
      " 3   ftse    6269 non-null   int32 \n",
      " 4   nikkei  6269 non-null   int32 \n",
      "dtypes: int32(4), object(1)\n",
      "memory usage: 147.1+ KB\n"
     ]
    }
   ],
   "source": [
    "data.info()"
   ]
  },
  {
   "cell_type": "code",
   "execution_count": 9,
   "metadata": {},
   "outputs": [
    {
     "data": {
      "text/html": [
       "<div>\n",
       "<style scoped>\n",
       "    .dataframe tbody tr th:only-of-type {\n",
       "        vertical-align: middle;\n",
       "    }\n",
       "\n",
       "    .dataframe tbody tr th {\n",
       "        vertical-align: top;\n",
       "    }\n",
       "\n",
       "    .dataframe thead th {\n",
       "        text-align: right;\n",
       "    }\n",
       "</style>\n",
       "<table border=\"1\" class=\"dataframe\">\n",
       "  <thead>\n",
       "    <tr style=\"text-align: right;\">\n",
       "      <th></th>\n",
       "      <th>date</th>\n",
       "      <th>spx</th>\n",
       "      <th>dax</th>\n",
       "      <th>ftse</th>\n",
       "      <th>nikkei</th>\n",
       "    </tr>\n",
       "  </thead>\n",
       "  <tbody>\n",
       "    <tr>\n",
       "      <th>0</th>\n",
       "      <td>1994-01-07</td>\n",
       "      <td>469</td>\n",
       "      <td>2224</td>\n",
       "      <td>3445</td>\n",
       "      <td>18124</td>\n",
       "    </tr>\n",
       "    <tr>\n",
       "      <th>1</th>\n",
       "      <td>1994-01-10</td>\n",
       "      <td>475</td>\n",
       "      <td>2225</td>\n",
       "      <td>3440</td>\n",
       "      <td>18443</td>\n",
       "    </tr>\n",
       "    <tr>\n",
       "      <th>2</th>\n",
       "      <td>1994-01-11</td>\n",
       "      <td>474</td>\n",
       "      <td>2228</td>\n",
       "      <td>3413</td>\n",
       "      <td>18485</td>\n",
       "    </tr>\n",
       "  </tbody>\n",
       "</table>\n",
       "</div>"
      ],
      "text/plain": [
       "        date  spx   dax  ftse  nikkei\n",
       "0 1994-01-07  469  2224  3445   18124\n",
       "1 1994-01-10  475  2225  3440   18443\n",
       "2 1994-01-11  474  2228  3413   18485"
      ]
     },
     "execution_count": 9,
     "metadata": {},
     "output_type": "execute_result"
    }
   ],
   "source": [
    "# import datetime\n",
    "from datetime import datetime\n",
    "\n",
    "data.date = pd.to_datetime(data.date,dayfirst=True)\n",
    "data.head(3)"
   ]
  },
  {
   "cell_type": "code",
   "execution_count": 10,
   "metadata": {},
   "outputs": [
    {
     "data": {
      "text/plain": [
       "<bound method DataFrame.info of            date   spx    dax  ftse  nikkei\n",
       "0    1994-01-07   469   2224  3445   18124\n",
       "1    1994-01-10   475   2225  3440   18443\n",
       "2    1994-01-11   474   2228  3413   18485\n",
       "3    1994-01-12   474   2182  3372   18793\n",
       "4    1994-01-13   472   2142  3360   18577\n",
       "...         ...   ...    ...   ...     ...\n",
       "6264 2018-01-23  2839  13559  7731   24124\n",
       "6265 2018-01-24  2837  13414  7643   23940\n",
       "6266 2018-01-25  2839  13298  7615   23669\n",
       "6267 2018-01-26  2872  13340  7665   23631\n",
       "6268 2018-01-29  2853  13324  7671   23629\n",
       "\n",
       "[6269 rows x 5 columns]>"
      ]
     },
     "execution_count": 10,
     "metadata": {},
     "output_type": "execute_result"
    }
   ],
   "source": [
    "data.info"
   ]
  },
  {
   "cell_type": "code",
   "execution_count": 11,
   "metadata": {},
   "outputs": [],
   "source": [
    "data.set_index('date',inplace = True)"
   ]
  },
  {
   "cell_type": "code",
   "execution_count": 12,
   "metadata": {},
   "outputs": [],
   "source": [
    "# set the frequency\n",
    "# b representing data was only collected on business day\n",
    "data =data.asfreq('b')"
   ]
  },
  {
   "cell_type": "code",
   "execution_count": 13,
   "metadata": {
    "scrolled": true
   },
   "outputs": [
    {
     "data": {
      "text/plain": [
       "spx       8\n",
       "dax       8\n",
       "ftse      8\n",
       "nikkei    8\n",
       "dtype: int64"
      ]
     },
     "execution_count": 13,
     "metadata": {},
     "output_type": "execute_result"
    }
   ],
   "source": [
    "data.isna().sum()"
   ]
  },
  {
   "cell_type": "code",
   "execution_count": 14,
   "metadata": {
    "scrolled": true
   },
   "outputs": [
    {
     "data": {
      "text/plain": [
       "spx       0\n",
       "dax       0\n",
       "ftse      0\n",
       "nikkei    0\n",
       "dtype: int64"
      ]
     },
     "execution_count": 14,
     "metadata": {},
     "output_type": "execute_result"
    }
   ],
   "source": [
    "data = data.fillna(value=data.mean())\n",
    "data.isna().sum()"
   ]
  },
  {
   "cell_type": "code",
   "execution_count": 15,
   "metadata": {},
   "outputs": [
    {
     "data": {
      "image/png": "[encoded data removed]",
      "text/plain": [
       "<Figure size 1080x504 with 1 Axes>"
      ]
     },
     "metadata": {
      "needs_background": "light"
     },
     "output_type": "display_data"
    }
   ],
   "source": [
    "data.spx.plot(figsize=(15,7), title = \"S&P500 Prices\")\n",
    "data.ftse.plot(figsize=(15,7), title = \"FTSE100 Prices\")\n",
    "data.nikkei.plot(figsize=(15,7), title = \"NIKKIE Prices\")\n",
    "data.dax.plot(figsize=(15,7), title = \"DAX Prices\")\n",
    "plt.title(\"S&P v FTSE,DAX,NIKKIE\" )\n",
    "plt.show()"
   ]
  },
  {
   "cell_type": "code",
   "execution_count": 16,
   "metadata": {},
   "outputs": [],
   "source": [
    "# inspect the data to test for stationarity ie using the visual and equation method\n",
    "# to enhance data visualization, rolling will be applied to the data to remove noise etc\n",
    "\n",
    "# computing for 7 day rolling average\n",
    "data['rolling_avg_ftse'] = data.ftse.rolling(7).mean()\n",
    "\n",
    "data['rolling_avg_spx'] = data.spx.rolling(7).mean() \n",
    "\n",
    "data['rolling_avg_dax'] = data.dax.rolling(7).mean() \n",
    "\n",
    "data['rolling_avg_nikkei'] = data.nikkei.rolling(7).mean()"
   ]
  },
  {
   "cell_type": "code",
   "execution_count": 17,
   "metadata": {},
   "outputs": [
    {
     "data": {
      "text/html": [
       "<div>\n",
       "<style scoped>\n",
       "    .dataframe tbody tr th:only-of-type {\n",
       "        vertical-align: middle;\n",
       "    }\n",
       "\n",
       "    .dataframe tbody tr th {\n",
       "        vertical-align: top;\n",
       "    }\n",
       "\n",
       "    .dataframe thead th {\n",
       "        text-align: right;\n",
       "    }\n",
       "</style>\n",
       "<table border=\"1\" class=\"dataframe\">\n",
       "  <thead>\n",
       "    <tr style=\"text-align: right;\">\n",
       "      <th></th>\n",
       "      <th>spx</th>\n",
       "      <th>dax</th>\n",
       "      <th>ftse</th>\n",
       "      <th>nikkei</th>\n",
       "      <th>rolling_avg_ftse</th>\n",
       "      <th>rolling_avg_spx</th>\n",
       "      <th>rolling_avg_dax</th>\n",
       "      <th>rolling_avg_nikkei</th>\n",
       "    </tr>\n",
       "    <tr>\n",
       "      <th>date</th>\n",
       "      <th></th>\n",
       "      <th></th>\n",
       "      <th></th>\n",
       "      <th></th>\n",
       "      <th></th>\n",
       "      <th></th>\n",
       "      <th></th>\n",
       "      <th></th>\n",
       "    </tr>\n",
       "  </thead>\n",
       "  <tbody>\n",
       "    <tr>\n",
       "      <th>1994-01-07</th>\n",
       "      <td>469.0</td>\n",
       "      <td>2224.0</td>\n",
       "      <td>3445.0</td>\n",
       "      <td>18124.0</td>\n",
       "      <td>NaN</td>\n",
       "      <td>NaN</td>\n",
       "      <td>NaN</td>\n",
       "      <td>NaN</td>\n",
       "    </tr>\n",
       "    <tr>\n",
       "      <th>1994-01-10</th>\n",
       "      <td>475.0</td>\n",
       "      <td>2225.0</td>\n",
       "      <td>3440.0</td>\n",
       "      <td>18443.0</td>\n",
       "      <td>NaN</td>\n",
       "      <td>NaN</td>\n",
       "      <td>NaN</td>\n",
       "      <td>NaN</td>\n",
       "    </tr>\n",
       "    <tr>\n",
       "      <th>1994-01-11</th>\n",
       "      <td>474.0</td>\n",
       "      <td>2228.0</td>\n",
       "      <td>3413.0</td>\n",
       "      <td>18485.0</td>\n",
       "      <td>NaN</td>\n",
       "      <td>NaN</td>\n",
       "      <td>NaN</td>\n",
       "      <td>NaN</td>\n",
       "    </tr>\n",
       "    <tr>\n",
       "      <th>1994-01-12</th>\n",
       "      <td>474.0</td>\n",
       "      <td>2182.0</td>\n",
       "      <td>3372.0</td>\n",
       "      <td>18793.0</td>\n",
       "      <td>NaN</td>\n",
       "      <td>NaN</td>\n",
       "      <td>NaN</td>\n",
       "      <td>NaN</td>\n",
       "    </tr>\n",
       "    <tr>\n",
       "      <th>1994-01-13</th>\n",
       "      <td>472.0</td>\n",
       "      <td>2142.0</td>\n",
       "      <td>3360.0</td>\n",
       "      <td>18577.0</td>\n",
       "      <td>NaN</td>\n",
       "      <td>NaN</td>\n",
       "      <td>NaN</td>\n",
       "      <td>NaN</td>\n",
       "    </tr>\n",
       "    <tr>\n",
       "      <th>1994-01-14</th>\n",
       "      <td>474.0</td>\n",
       "      <td>2151.0</td>\n",
       "      <td>3400.0</td>\n",
       "      <td>18973.0</td>\n",
       "      <td>NaN</td>\n",
       "      <td>NaN</td>\n",
       "      <td>NaN</td>\n",
       "      <td>NaN</td>\n",
       "    </tr>\n",
       "    <tr>\n",
       "      <th>1994-01-17</th>\n",
       "      <td>473.0</td>\n",
       "      <td>2115.0</td>\n",
       "      <td>3407.0</td>\n",
       "      <td>18725.0</td>\n",
       "      <td>3405.285714</td>\n",
       "      <td>473.000000</td>\n",
       "      <td>2181.000000</td>\n",
       "      <td>18588.571429</td>\n",
       "    </tr>\n",
       "    <tr>\n",
       "      <th>1994-01-18</th>\n",
       "      <td>474.0</td>\n",
       "      <td>2130.0</td>\n",
       "      <td>3437.0</td>\n",
       "      <td>18514.0</td>\n",
       "      <td>3404.142857</td>\n",
       "      <td>473.714286</td>\n",
       "      <td>2167.571429</td>\n",
       "      <td>18644.285714</td>\n",
       "    </tr>\n",
       "    <tr>\n",
       "      <th>1994-01-19</th>\n",
       "      <td>474.0</td>\n",
       "      <td>2132.0</td>\n",
       "      <td>3475.0</td>\n",
       "      <td>19039.0</td>\n",
       "      <td>3409.142857</td>\n",
       "      <td>473.571429</td>\n",
       "      <td>2154.285714</td>\n",
       "      <td>18729.428571</td>\n",
       "    </tr>\n",
       "    <tr>\n",
       "      <th>1994-01-20</th>\n",
       "      <td>474.0</td>\n",
       "      <td>2098.0</td>\n",
       "      <td>3469.0</td>\n",
       "      <td>19183.0</td>\n",
       "      <td>3417.142857</td>\n",
       "      <td>473.571429</td>\n",
       "      <td>2135.714286</td>\n",
       "      <td>18829.142857</td>\n",
       "    </tr>\n",
       "  </tbody>\n",
       "</table>\n",
       "</div>"
      ],
      "text/plain": [
       "              spx     dax    ftse   nikkei  rolling_avg_ftse  rolling_avg_spx  \\\n",
       "date                                                                            \n",
       "1994-01-07  469.0  2224.0  3445.0  18124.0               NaN              NaN   \n",
       "1994-01-10  475.0  2225.0  3440.0  18443.0               NaN              NaN   \n",
       "1994-01-11  474.0  2228.0  3413.0  18485.0               NaN              NaN   \n",
       "1994-01-12  474.0  2182.0  3372.0  18793.0               NaN              NaN   \n",
       "1994-01-13  472.0  2142.0  3360.0  18577.0               NaN              NaN   \n",
       "1994-01-14  474.0  2151.0  3400.0  18973.0               NaN              NaN   \n",
       "1994-01-17  473.0  2115.0  3407.0  18725.0       3405.285714       473.000000   \n",
       "1994-01-18  474.0  2130.0  3437.0  18514.0       3404.142857       473.714286   \n",
       "1994-01-19  474.0  2132.0  3475.0  19039.0       3409.142857       473.571429   \n",
       "1994-01-20  474.0  2098.0  3469.0  19183.0       3417.142857       473.571429   \n",
       "\n",
       "            rolling_avg_dax  rolling_avg_nikkei  \n",
       "date                                             \n",
       "1994-01-07              NaN                 NaN  \n",
       "1994-01-10              NaN                 NaN  \n",
       "1994-01-11              NaN                 NaN  \n",
       "1994-01-12              NaN                 NaN  \n",
       "1994-01-13              NaN                 NaN  \n",
       "1994-01-14              NaN                 NaN  \n",
       "1994-01-17      2181.000000        18588.571429  \n",
       "1994-01-18      2167.571429        18644.285714  \n",
       "1994-01-19      2154.285714        18729.428571  \n",
       "1994-01-20      2135.714286        18829.142857  "
      ]
     },
     "execution_count": 17,
     "metadata": {},
     "output_type": "execute_result"
    }
   ],
   "source": [
    "data.head(10)"
   ]
  },
  {
   "cell_type": "code",
   "execution_count": 18,
   "metadata": {},
   "outputs": [
    {
     "data": {
      "image/png": "[encoded data removed]",
      "text/plain": [
       "<Figure size 1440x360 with 1 Axes>"
      ]
     },
     "metadata": {
      "needs_background": "light"
     },
     "output_type": "display_data"
    }
   ],
   "source": [
    "# We can observe that the first 6 values of the ‘7day_rolling_avg’ column are NaN values. Thisis because these 6 values don’t have enough data to compute the rolling average of 7 days. So, in the plot also, for the first six values, no values would be plotted.\n",
    "data.spx.plot(figsize=(20,5), title = \"spx Prices\")\n",
    "data.rolling_avg_spx.plot(figsize=(20,5), title = \"rolling_avg_spx Prices\")\n",
    "plt.title(\"spx vs rolling_avg_spx\")\n",
    "plt.show()"
   ]
  },
  {
   "cell_type": "code",
   "execution_count": 19,
   "metadata": {},
   "outputs": [],
   "source": [
    "# to support the visual inspection ie checking for stationarity, The DICKEY - FULLER test will be employed\n",
    "\n",
    "# In order to interprete the statistics , we will observe the assumption made by :\n",
    "\n",
    "# If test Statisics is < Critical value = Stationarity\n",
    "# the p_value must also be statistically significant ie < 0.05\n",
    "# So there fore the dataset is not stationary. And must be converteed to stationarized. But first let test if it is Seasonal or not.\n",
    "\n",
    "import statsmodels.tsa.stattools as sts "
   ]
  },
  {
   "cell_type": "code",
   "execution_count": 20,
   "metadata": {},
   "outputs": [
    {
     "data": {
      "text/plain": [
       "(1.1188910427376566,\n",
       " 0.9953746684971282,\n",
       " 10,\n",
       " 6266,\n",
       " {'1%': -3.4313940441948807,\n",
       "  '5%': -2.8620013751563964,\n",
       "  '10%': -2.567015587023998},\n",
       " 60760.79080693418)"
      ]
     },
     "execution_count": 20,
     "metadata": {},
     "output_type": "execute_result"
    }
   ],
   "source": [
    "sts.adfuller(data.spx)"
   ]
  },
  {
   "cell_type": "code",
   "execution_count": 21,
   "metadata": {},
   "outputs": [
    {
     "data": {
      "text/plain": [
       "(-1.5931381220230316,\n",
       " 0.4870395437055722,\n",
       " 7,\n",
       " 6269,\n",
       " {'1%': -3.4313935443677157,\n",
       "  '5%': -2.8620011543157835,\n",
       "  '10%': -2.5670154694652805},\n",
       " 72354.39654218289)"
      ]
     },
     "execution_count": 21,
     "metadata": {},
     "output_type": "execute_result"
    }
   ],
   "source": [
    "sts.adfuller(data.ftse)"
   ]
  },
  {
   "cell_type": "code",
   "execution_count": 22,
   "metadata": {},
   "outputs": [
    {
     "data": {
      "text/plain": [
       "(-1.3498416210921578,\n",
       " 0.6060727404917859,\n",
       " 3,\n",
       " 6273,\n",
       " {'1%': -3.4313928786754726,\n",
       "  '5%': -2.8620008601902893,\n",
       "  '10%': -2.5670153128952853},\n",
       " 88368.50767803492)"
      ]
     },
     "execution_count": 22,
     "metadata": {},
     "output_type": "execute_result"
    }
   ],
   "source": [
    "sts.adfuller(data.nikkei)"
   ]
  },
  {
   "cell_type": "code",
   "execution_count": 23,
   "metadata": {},
   "outputs": [
    {
     "data": {
      "text/plain": [
       "(-0.09979618860008835,\n",
       " 0.9494588301162835,\n",
       " 7,\n",
       " 6269,\n",
       " {'1%': -3.4313935443677157,\n",
       "  '5%': -2.8620011543157835,\n",
       "  '10%': -2.5670154694652805},\n",
       " 82201.90821292775)"
      ]
     },
     "execution_count": 23,
     "metadata": {},
     "output_type": "execute_result"
    }
   ],
   "source": [
    "sts.adfuller(data.dax)"
   ]
  },
  {
   "cell_type": "code",
   "execution_count": 24,
   "metadata": {},
   "outputs": [
    {
     "data": {
      "image/png": "[encoded data removed]",
      "text/plain": [
       "<Figure size 432x288 with 4 Axes>"
      ]
     },
     "metadata": {
      "needs_background": "light"
     },
     "output_type": "display_data"
    },
    {
     "data": {
      "text/plain": [
       "<Figure size 2880x1296 with 0 Axes>"
      ]
     },
     "metadata": {},
     "output_type": "display_data"
    }
   ],
   "source": [
    "# This shows that all the data are not stationalised and so needs to be stationalized. but first inspect if there is seasonality or not\n",
    "\n",
    "# To Test for Seasonality using Naive method  ie Additive and Multiplicative\n",
    "\n",
    "from statsmodels.tsa.seasonal import seasonal_decompose\n",
    "\n",
    "seasonal_decompose_additive_spx= seasonal_decompose(data.spx,model=\"additive\", period=1)\n",
    "seasonal_decompose_additive_spx.plot()\n",
    "plt.figure(figsize=(40,18))\n",
    "plt.show()"
   ]
  },
  {
   "cell_type": "code",
   "execution_count": 25,
   "metadata": {},
   "outputs": [
    {
     "data": {
      "image/png": "[encoded data removed]",
      "text/plain": [
       "<Figure size 432x288 with 4 Axes>"
      ]
     },
     "metadata": {
      "needs_background": "light"
     },
     "output_type": "display_data"
    },
    {
     "data": {
      "text/plain": [
       "<Figure size 2880x720 with 0 Axes>"
      ]
     },
     "metadata": {},
     "output_type": "display_data"
    }
   ],
   "source": [
    "# To Test for Seasonality using Naive method   Multiplicative\n",
    "\n",
    "seasonal_decompose_multiplicative_spx= seasonal_decompose(data.spx,model=\"multiplicative\", period=1)\n",
    "seasonal_decompose_multiplicative_spx.plot()\n",
    "plt.figure(figsize=(40,10))\n",
    "plt.show()"
   ]
  },
  {
   "cell_type": "code",
   "execution_count": 26,
   "metadata": {},
   "outputs": [
    {
     "data": {
      "text/html": [
       "<div>\n",
       "<style scoped>\n",
       "    .dataframe tbody tr th:only-of-type {\n",
       "        vertical-align: middle;\n",
       "    }\n",
       "\n",
       "    .dataframe tbody tr th {\n",
       "        vertical-align: top;\n",
       "    }\n",
       "\n",
       "    .dataframe thead th {\n",
       "        text-align: right;\n",
       "    }\n",
       "</style>\n",
       "<table border=\"1\" class=\"dataframe\">\n",
       "  <thead>\n",
       "    <tr style=\"text-align: right;\">\n",
       "      <th></th>\n",
       "      <th>spx</th>\n",
       "      <th>dax</th>\n",
       "      <th>ftse</th>\n",
       "      <th>nikkei</th>\n",
       "      <th>rolling_avg_ftse</th>\n",
       "      <th>rolling_avg_spx</th>\n",
       "      <th>rolling_avg_dax</th>\n",
       "      <th>rolling_avg_nikkei</th>\n",
       "      <th>int_ftse</th>\n",
       "      <th>int_dax</th>\n",
       "      <th>int_nikkei</th>\n",
       "      <th>int_spx</th>\n",
       "    </tr>\n",
       "    <tr>\n",
       "      <th>date</th>\n",
       "      <th></th>\n",
       "      <th></th>\n",
       "      <th></th>\n",
       "      <th></th>\n",
       "      <th></th>\n",
       "      <th></th>\n",
       "      <th></th>\n",
       "      <th></th>\n",
       "      <th></th>\n",
       "      <th></th>\n",
       "      <th></th>\n",
       "      <th></th>\n",
       "    </tr>\n",
       "  </thead>\n",
       "  <tbody>\n",
       "    <tr>\n",
       "      <th>1994-01-07</th>\n",
       "      <td>469.0</td>\n",
       "      <td>2224.0</td>\n",
       "      <td>3445.0</td>\n",
       "      <td>18124.0</td>\n",
       "      <td>NaN</td>\n",
       "      <td>NaN</td>\n",
       "      <td>NaN</td>\n",
       "      <td>NaN</td>\n",
       "      <td>NaN</td>\n",
       "      <td>NaN</td>\n",
       "      <td>NaN</td>\n",
       "      <td>NaN</td>\n",
       "    </tr>\n",
       "    <tr>\n",
       "      <th>1994-01-10</th>\n",
       "      <td>475.0</td>\n",
       "      <td>2225.0</td>\n",
       "      <td>3440.0</td>\n",
       "      <td>18443.0</td>\n",
       "      <td>NaN</td>\n",
       "      <td>NaN</td>\n",
       "      <td>NaN</td>\n",
       "      <td>NaN</td>\n",
       "      <td>-5.0</td>\n",
       "      <td>1.0</td>\n",
       "      <td>319.0</td>\n",
       "      <td>6.0</td>\n",
       "    </tr>\n",
       "    <tr>\n",
       "      <th>1994-01-11</th>\n",
       "      <td>474.0</td>\n",
       "      <td>2228.0</td>\n",
       "      <td>3413.0</td>\n",
       "      <td>18485.0</td>\n",
       "      <td>NaN</td>\n",
       "      <td>NaN</td>\n",
       "      <td>NaN</td>\n",
       "      <td>NaN</td>\n",
       "      <td>-27.0</td>\n",
       "      <td>3.0</td>\n",
       "      <td>42.0</td>\n",
       "      <td>-1.0</td>\n",
       "    </tr>\n",
       "  </tbody>\n",
       "</table>\n",
       "</div>"
      ],
      "text/plain": [
       "              spx     dax    ftse   nikkei  rolling_avg_ftse  rolling_avg_spx  \\\n",
       "date                                                                            \n",
       "1994-01-07  469.0  2224.0  3445.0  18124.0               NaN              NaN   \n",
       "1994-01-10  475.0  2225.0  3440.0  18443.0               NaN              NaN   \n",
       "1994-01-11  474.0  2228.0  3413.0  18485.0               NaN              NaN   \n",
       "\n",
       "            rolling_avg_dax  rolling_avg_nikkei  int_ftse  int_dax  \\\n",
       "date                                                                 \n",
       "1994-01-07              NaN                 NaN       NaN      NaN   \n",
       "1994-01-10              NaN                 NaN      -5.0      1.0   \n",
       "1994-01-11              NaN                 NaN     -27.0      3.0   \n",
       "\n",
       "            int_nikkei  int_spx  \n",
       "date                             \n",
       "1994-01-07         NaN      NaN  \n",
       "1994-01-10       319.0      6.0  \n",
       "1994-01-11        42.0     -1.0  "
      ]
     },
     "execution_count": 26,
     "metadata": {},
     "output_type": "execute_result"
    }
   ],
   "source": [
    "# The series does not show seasonality\n",
    "\n",
    "# next is to stationalized the data using differencing approach. Also worthy to note is that using Returns gives a better sinulation but for sake of easy reconverting the differenced series to its initial price value, differencing will be used. effort is still made to understand how to do same for returns.\n",
    "# next wiil be to Integrating the data to make them stationarized\n",
    "\n",
    "# method 2.(Integrating)\n",
    "\n",
    "data['int_ftse'] = data.ftse.diff(1)\n",
    "\n",
    "data['int_dax'] = data.dax.diff(1)\n",
    "\n",
    "data['int_nikkei'] = data.nikkei.diff(1)\n",
    "\n",
    "data['int_spx'] = data.spx.diff(1)\n",
    "data.head(3)"
   ]
  },
  {
   "cell_type": "code",
   "execution_count": 27,
   "metadata": {},
   "outputs": [
    {
     "data": {
      "text/plain": [
       "(-31.816050690493885,\n",
       " 0.0,\n",
       " 9,\n",
       " 6267,\n",
       " {'1%': -3.4313938775326336,\n",
       "  '5%': -2.862001301519361,\n",
       "  '10%': -2.5670155478252497},\n",
       " 60759.98971999254)"
      ]
     },
     "execution_count": 27,
     "metadata": {},
     "output_type": "execute_result"
    }
   ],
   "source": [
    "data.int_spx[np.isnan(data.int_spx)] = 0\n",
    "data.int_spx[np.isinf(data.int_spx)] = 0\n",
    "\n",
    "sts.adfuller(data.int_spx)"
   ]
  },
  {
   "cell_type": "raw",
   "metadata": {},
   "source": [
    "# spx is now stationarized"
   ]
  },
  {
   "cell_type": "code",
   "execution_count": 28,
   "metadata": {},
   "outputs": [
    {
     "data": {
      "text/plain": [
       "(-37.00342416043289,\n",
       " 0.0,\n",
       " 6,\n",
       " 6270,\n",
       " {'1%': -3.4313933778649943,\n",
       "  '5%': -2.862001080749219,\n",
       "  '10%': -2.567015430304048},\n",
       " 82199.92205515999)"
      ]
     },
     "execution_count": 28,
     "metadata": {},
     "output_type": "execute_result"
    }
   ],
   "source": [
    "data.int_dax[np.isnan(data.int_dax)] = 0\n",
    "data.int_dax[np.isinf(data.int_dax)] = 0\n",
    "\n",
    "sts.adfuller(data.int_dax)"
   ]
  },
  {
   "cell_type": "raw",
   "metadata": {},
   "source": [
    "# dax is now stationarized"
   ]
  },
  {
   "cell_type": "code",
   "execution_count": 29,
   "metadata": {},
   "outputs": [
    {
     "data": {
      "text/plain": [
       "(-34.644796335238475,\n",
       " 0.0,\n",
       " 6,\n",
       " 6270,\n",
       " {'1%': -3.4313933778649943,\n",
       "  '5%': -2.862001080749219,\n",
       "  '10%': -2.567015430304048},\n",
       " 72355.17399741118)"
      ]
     },
     "execution_count": 29,
     "metadata": {},
     "output_type": "execute_result"
    }
   ],
   "source": [
    "data.int_ftse[np.isnan(data.int_ftse)] = 0\n",
    "data.int_ftse[np.isinf(data.int_ftse)] = 0\n",
    "\n",
    "sts.adfuller(data.int_ftse)"
   ]
  },
  {
   "cell_type": "raw",
   "metadata": {},
   "source": [
    "# ftse is now stationarized"
   ]
  },
  {
   "cell_type": "code",
   "execution_count": 30,
   "metadata": {},
   "outputs": [
    {
     "data": {
      "text/plain": [
       "(-36.72306984685792,\n",
       " 0.0,\n",
       " 5,\n",
       " 6271,\n",
       " {'1%': -3.4313932114153967,\n",
       "  '5%': -2.8620010072061226,\n",
       "  '10%': -2.567015391155308},\n",
       " 88368.32078829122)"
      ]
     },
     "execution_count": 30,
     "metadata": {},
     "output_type": "execute_result"
    }
   ],
   "source": [
    "data.int_nikkei[np.isnan(data.int_nikkei)] = 0\n",
    "data.int_nikkei[np.isinf(data.int_nikkei)] = 0\n",
    "\n",
    "sts.adfuller(data.int_nikkei)"
   ]
  },
  {
   "cell_type": "code",
   "execution_count": 31,
   "metadata": {},
   "outputs": [],
   "source": [
    "# nikkei is now stationarized"
   ]
  },
  {
   "cell_type": "code",
   "execution_count": 32,
   "metadata": {},
   "outputs": [
    {
     "data": {
      "text/html": [
       "<div>\n",
       "<style scoped>\n",
       "    .dataframe tbody tr th:only-of-type {\n",
       "        vertical-align: middle;\n",
       "    }\n",
       "\n",
       "    .dataframe tbody tr th {\n",
       "        vertical-align: top;\n",
       "    }\n",
       "\n",
       "    .dataframe thead th {\n",
       "        text-align: right;\n",
       "    }\n",
       "</style>\n",
       "<table border=\"1\" class=\"dataframe\">\n",
       "  <thead>\n",
       "    <tr style=\"text-align: right;\">\n",
       "      <th></th>\n",
       "      <th>spx</th>\n",
       "      <th>dax</th>\n",
       "      <th>ftse</th>\n",
       "      <th>nikkei</th>\n",
       "      <th>rolling_avg_ftse</th>\n",
       "      <th>rolling_avg_spx</th>\n",
       "      <th>rolling_avg_dax</th>\n",
       "      <th>rolling_avg_nikkei</th>\n",
       "      <th>int_ftse</th>\n",
       "      <th>int_dax</th>\n",
       "      <th>int_nikkei</th>\n",
       "      <th>int_spx</th>\n",
       "    </tr>\n",
       "    <tr>\n",
       "      <th>date</th>\n",
       "      <th></th>\n",
       "      <th></th>\n",
       "      <th></th>\n",
       "      <th></th>\n",
       "      <th></th>\n",
       "      <th></th>\n",
       "      <th></th>\n",
       "      <th></th>\n",
       "      <th></th>\n",
       "      <th></th>\n",
       "      <th></th>\n",
       "      <th></th>\n",
       "    </tr>\n",
       "  </thead>\n",
       "  <tbody>\n",
       "    <tr>\n",
       "      <th>1994-01-10</th>\n",
       "      <td>475.0</td>\n",
       "      <td>2225.0</td>\n",
       "      <td>3440.0</td>\n",
       "      <td>18443.0</td>\n",
       "      <td>NaN</td>\n",
       "      <td>NaN</td>\n",
       "      <td>NaN</td>\n",
       "      <td>NaN</td>\n",
       "      <td>-5.0</td>\n",
       "      <td>1.0</td>\n",
       "      <td>319.0</td>\n",
       "      <td>6.0</td>\n",
       "    </tr>\n",
       "    <tr>\n",
       "      <th>1994-01-11</th>\n",
       "      <td>474.0</td>\n",
       "      <td>2228.0</td>\n",
       "      <td>3413.0</td>\n",
       "      <td>18485.0</td>\n",
       "      <td>NaN</td>\n",
       "      <td>NaN</td>\n",
       "      <td>NaN</td>\n",
       "      <td>NaN</td>\n",
       "      <td>-27.0</td>\n",
       "      <td>3.0</td>\n",
       "      <td>42.0</td>\n",
       "      <td>-1.0</td>\n",
       "    </tr>\n",
       "    <tr>\n",
       "      <th>1994-01-12</th>\n",
       "      <td>474.0</td>\n",
       "      <td>2182.0</td>\n",
       "      <td>3372.0</td>\n",
       "      <td>18793.0</td>\n",
       "      <td>NaN</td>\n",
       "      <td>NaN</td>\n",
       "      <td>NaN</td>\n",
       "      <td>NaN</td>\n",
       "      <td>-41.0</td>\n",
       "      <td>-46.0</td>\n",
       "      <td>308.0</td>\n",
       "      <td>0.0</td>\n",
       "    </tr>\n",
       "  </tbody>\n",
       "</table>\n",
       "</div>"
      ],
      "text/plain": [
       "              spx     dax    ftse   nikkei  rolling_avg_ftse  rolling_avg_spx  \\\n",
       "date                                                                            \n",
       "1994-01-10  475.0  2225.0  3440.0  18443.0               NaN              NaN   \n",
       "1994-01-11  474.0  2228.0  3413.0  18485.0               NaN              NaN   \n",
       "1994-01-12  474.0  2182.0  3372.0  18793.0               NaN              NaN   \n",
       "\n",
       "            rolling_avg_dax  rolling_avg_nikkei  int_ftse  int_dax  \\\n",
       "date                                                                 \n",
       "1994-01-10              NaN                 NaN      -5.0      1.0   \n",
       "1994-01-11              NaN                 NaN     -27.0      3.0   \n",
       "1994-01-12              NaN                 NaN     -41.0    -46.0   \n",
       "\n",
       "            int_nikkei  int_spx  \n",
       "date                             \n",
       "1994-01-10       319.0      6.0  \n",
       "1994-01-11        42.0     -1.0  \n",
       "1994-01-12       308.0      0.0  "
      ]
     },
     "execution_count": 32,
     "metadata": {},
     "output_type": "execute_result"
    }
   ],
   "source": [
    "data = data.iloc[1:]\n",
    "data.head(3)"
   ]
  },
  {
   "cell_type": "code",
   "execution_count": 33,
   "metadata": {},
   "outputs": [
    {
     "data": {
      "text/plain": [
       "(6276, 12)"
      ]
     },
     "execution_count": 33,
     "metadata": {},
     "output_type": "execute_result"
    }
   ],
   "source": [
    "data.shape"
   ]
  },
  {
   "cell_type": "code",
   "execution_count": 34,
   "metadata": {},
   "outputs": [],
   "source": [
    "data_1 = data.copy()"
   ]
  },
  {
   "cell_type": "code",
   "execution_count": 35,
   "metadata": {},
   "outputs": [
    {
     "data": {
      "image/png": "[encoded data removed]",
      "text/plain": [
       "<Figure size 1440x360 with 1 Axes>"
      ]
     },
     "metadata": {
      "needs_background": "light"
     },
     "output_type": "display_data"
    }
   ],
   "source": [
    "data.int_spx.plot(figsize=(20,5), title = \"SPX Prices Stationalized\")\n",
    "plt.show()"
   ]
  },
  {
   "cell_type": "code",
   "execution_count": 36,
   "metadata": {},
   "outputs": [],
   "source": [
    "# Now to select best model that defines the series\n",
    "# Next will be to select best ARIMA Model that fits the series, We are going to follow the rules to confirm if ARIMA is satisfied\n",
    "# And use Auto_ARIMA TO Select each best lag\n",
    "\n",
    "# AR = ACF (Spikes decay towards zero)  &  PACF (Spike cut off to zero)\n",
    "# MA= PACF (Spikes decay towards zero)  &  ACF (Spike cut off to zero)\n",
    "# ARIMA = PACF (Spikes decay towards zero) & ACF (Spikes decay towards zero)"
   ]
  },
  {
   "cell_type": "code",
   "execution_count": 37,
   "metadata": {},
   "outputs": [
    {
     "data": {
      "image/png": "[encoded data removed]",
      "text/plain": [
       "<Figure size 432x288 with 1 Axes>"
      ]
     },
     "metadata": {
      "needs_background": "light"
     },
     "output_type": "display_data"
    }
   ],
   "source": [
    "## ACF and PACF for Returns\n",
    "from statsmodels.graphics.tsaplots import plot_acf, plot_pacf\n",
    "import statsmodels.graphics.tsaplots as sgt\n",
    "\n",
    "sgt.plot_acf(data.int_spx, zero = False, lags = 40)\n",
    "plt.title(\"ACF for Integerated SPX \", size=24)\n",
    "plt.show()"
   ]
  },
  {
   "cell_type": "code",
   "execution_count": 38,
   "metadata": {},
   "outputs": [
    {
     "data": {
      "image/png": "[encoded data removed]",
      "text/plain": [
       "<Figure size 432x288 with 1 Axes>"
      ]
     },
     "metadata": {
      "needs_background": "light"
     },
     "output_type": "display_data"
    }
   ],
   "source": [
    "sgt.plot_pacf(data.int_spx, lags = 40, alpha = 0.05, zero = False , method = ('ols'))\n",
    "plt.title(\"Partial Autocorrelation Function for Integerated SPX\",size=20)\n",
    "plt.show()\n"
   ]
  },
  {
   "cell_type": "markdown",
   "metadata": {},
   "source": [
    "# Auto _ ARIMA concept will be employed to easily select best lag time & its best model"
   ]
  },
  {
   "cell_type": "code",
   "execution_count": 39,
   "metadata": {},
   "outputs": [],
   "source": [
    "from pmdarima.arima import auto_arima  \n",
    "from pmdarima.arima import OCSBTest \n",
    "\n",
    "# I am going to be using the Akaike information criterion(AIC) as a matrix to compare the performance of various ARIMA based models\n",
    "# # for seasonal we have p d q and P D Q values for ARIMA  based models# for seasonal we have p d q and P D Q values for ARIMA  based models\n",
    "\n",
    "\n",
    "# returns_ftse  returns_dax   returns_spx   returns_nikkei  int_ftse  int_dax  int_nikkei   int_spx"
   ]
  },
  {
   "cell_type": "code",
   "execution_count": 40,
   "metadata": {},
   "outputs": [
    {
     "name": "stdout",
     "output_type": "stream",
     "text": [
      "Performing stepwise search to minimize aic\n",
      " ARIMA(0,0,0)(0,0,0)[0]             : AIC=62978.901, Time=0.04 sec\n",
      " ARIMA(1,0,0)(0,0,0)[0]             : AIC=61677.610, Time=0.09 sec\n",
      " ARIMA(0,0,1)(0,0,0)[0]             : AIC=61057.962, Time=0.34 sec\n",
      " ARIMA(1,0,1)(0,0,0)[0]             : AIC=61055.621, Time=0.42 sec\n",
      " ARIMA(2,0,1)(0,0,0)[0]             : AIC=61056.486, Time=0.85 sec\n",
      " ARIMA(1,0,2)(0,0,0)[0]             : AIC=61055.623, Time=1.62 sec\n",
      " ARIMA(0,0,2)(0,0,0)[0]             : AIC=61055.808, Time=0.43 sec\n",
      " ARIMA(2,0,0)(0,0,0)[0]             : AIC=61294.018, Time=0.13 sec\n",
      " ARIMA(2,0,2)(0,0,0)[0]             : AIC=61059.187, Time=0.75 sec\n",
      " ARIMA(1,0,1)(0,0,0)[0] intercept   : AIC=61051.010, Time=1.44 sec\n",
      " ARIMA(0,0,1)(0,0,0)[0] intercept   : AIC=61053.754, Time=0.97 sec\n",
      " ARIMA(1,0,0)(0,0,0)[0] intercept   : AIC=61677.889, Time=0.19 sec\n",
      " ARIMA(2,0,1)(0,0,0)[0] intercept   : AIC=61051.660, Time=2.13 sec\n",
      " ARIMA(1,0,2)(0,0,0)[0] intercept   : AIC=61050.597, Time=5.52 sec\n",
      " ARIMA(0,0,2)(0,0,0)[0] intercept   : AIC=61051.231, Time=1.44 sec\n",
      " ARIMA(2,0,2)(0,0,0)[0] intercept   : AIC=61054.505, Time=1.49 sec\n",
      " ARIMA(1,0,3)(0,0,0)[0] intercept   : AIC=61054.820, Time=1.50 sec\n",
      " ARIMA(0,0,3)(0,0,0)[0] intercept   : AIC=61051.993, Time=1.81 sec\n",
      " ARIMA(2,0,3)(0,0,0)[0] intercept   : AIC=61054.508, Time=5.30 sec\n",
      "\n",
      "Best model:  ARIMA(1,0,2)(0,0,0)[0] intercept\n",
      "Total fit time: 26.491 seconds\n"
     ]
    }
   ],
   "source": [
    "model_returns_spx  = auto_arima (data.int_spx,start_p = 0, start_q = 0,max_p =5, max_q = 5, seasonal= False,trace = True )"
   ]
  },
  {
   "cell_type": "code",
   "execution_count": 41,
   "metadata": {},
   "outputs": [
    {
     "name": "stderr",
     "output_type": "stream",
     "text": [
      "C:\\Users\\Henry\\anaconda3\\lib\\site-packages\\statsmodels\\tsa\\arima_model.py:472: FutureWarning: \n",
      "statsmodels.tsa.arima_model.ARMA and statsmodels.tsa.arima_model.ARIMA have\n",
      "been deprecated in favor of statsmodels.tsa.arima.model.ARIMA (note the .\n",
      "between arima and model) and\n",
      "statsmodels.tsa.SARIMAX. These will be removed after the 0.12 release.\n",
      "\n",
      "statsmodels.tsa.arima.model.ARIMA makes use of the statespace framework and\n",
      "is both well tested and maintained.\n",
      "\n",
      "To silence this warning and continue using ARMA and ARIMA until they are\n",
      "removed, use:\n",
      "\n",
      "import warnings\n",
      "warnings.filterwarnings('ignore', 'statsmodels.tsa.arima_model.ARMA',\n",
      "                        FutureWarning)\n",
      "warnings.filterwarnings('ignore', 'statsmodels.tsa.arima_model.ARIMA',\n",
      "                        FutureWarning)\n",
      "\n",
      "  warnings.warn(ARIMA_DEPRECATION_WARN, FutureWarning)\n"
     ]
    }
   ],
   "source": [
    "from statsmodels.tsa.arima_model import ARIMA\n",
    "# Models for ftse\n",
    "\n",
    "model_int_spx = ARIMA(data.int_spx, order=(1,0,2))\n",
    "results_int_spx = model_int_spx.fit()\n",
    "\n",
    "import warnings\n",
    "warnings.filterwarnings('ignore', 'statsmodels.tsa.arima_model.ARMA',\n",
    "                        FutureWarning)\n",
    "warnings.filterwarnings('ignore', 'statsmodels.tsa.arima_model.ARIMA',\n",
    "                        FutureWarning)\n"
   ]
  },
  {
   "cell_type": "code",
   "execution_count": 42,
   "metadata": {},
   "outputs": [],
   "source": [
    "# Now am gonna divide the data into train and test, using nobs ( no of observation = 12)\n",
    "\n",
    "nobs =12\n",
    "train,test =data[0:-nobs],data[-nobs: ]"
   ]
  },
  {
   "cell_type": "code",
   "execution_count": 43,
   "metadata": {},
   "outputs": [
    {
     "data": {
      "text/plain": [
       "((6264, 12), (12, 12))"
      ]
     },
     "execution_count": 43,
     "metadata": {},
     "output_type": "execute_result"
    }
   ],
   "source": [
    "train.shape, test.shape"
   ]
  },
  {
   "cell_type": "code",
   "execution_count": 44,
   "metadata": {},
   "outputs": [],
   "source": [
    "# for difference of price\n",
    "Start_int_spx = len(train.int_spx)\n",
    "end_int_spx = len(train.int_spx) + len(test.int_spx)-1"
   ]
  },
  {
   "cell_type": "code",
   "execution_count": 45,
   "metadata": {},
   "outputs": [
    {
     "data": {
      "text/plain": [
       "<AxesSubplot:xlabel='date'>"
      ]
     },
     "execution_count": 45,
     "metadata": {},
     "output_type": "execute_result"
    },
    {
     "data": {
      "image/png": "[encoded data removed]",
      "text/plain": [
       "<Figure size 1008x432 with 1 Axes>"
      ]
     },
     "metadata": {
      "needs_background": "light"
     },
     "output_type": "display_data"
    }
   ],
   "source": [
    "predictions_1 = results_int_spx.predict(Start_int_spx,end_int_spx).rename('Int_SPX MODEL')\n",
    "test.int_spx.plot(legend=True,figsize =(14,6))\n",
    "predictions_1.plot(legend=True)"
   ]
  },
  {
   "cell_type": "code",
   "execution_count": 46,
   "metadata": {},
   "outputs": [
    {
     "name": "stdout",
     "output_type": "stream",
     "text": [
      "29.221417393726224\n"
     ]
    }
   ],
   "source": [
    "from sklearn.metrics import r2_score\n",
    "from sklearn.metrics import mean_squared_error\n",
    "from math import sqrt\n",
    "\n",
    "\n",
    "print(np.sqrt(mean_squared_error(test.int_spx,predictions_1)))"
   ]
  },
  {
   "cell_type": "markdown",
   "metadata": {},
   "source": [
    "# Now I will be introducing other features and be testing if rms will be reducing"
   ]
  },
  {
   "cell_type": "code",
   "execution_count": 47,
   "metadata": {},
   "outputs": [
    {
     "name": "stdout",
     "output_type": "stream",
     "text": [
      "Performing stepwise search to minimize aic\n",
      " ARIMA(0,0,0)(0,0,0)[0]             : AIC=51851.649, Time=1.12 sec\n",
      " ARIMA(1,0,0)(0,0,0)[0]             : AIC=51168.276, Time=0.79 sec\n",
      " ARIMA(0,0,1)(0,0,0)[0]             : AIC=51029.740, Time=1.16 sec\n",
      " ARIMA(1,0,1)(0,0,0)[0]             : AIC=51028.631, Time=2.40 sec\n",
      " ARIMA(2,0,1)(0,0,0)[0]             : AIC=51030.101, Time=2.39 sec\n",
      " ARIMA(1,0,2)(0,0,0)[0]             : AIC=51030.197, Time=2.98 sec\n",
      " ARIMA(0,0,2)(0,0,0)[0]             : AIC=51028.790, Time=1.33 sec\n",
      " ARIMA(2,0,0)(0,0,0)[0]             : AIC=51062.761, Time=1.30 sec\n",
      " ARIMA(2,0,2)(0,0,0)[0]             : AIC=51027.893, Time=5.43 sec\n",
      " ARIMA(3,0,2)(0,0,0)[0]             : AIC=51033.695, Time=2.37 sec\n",
      " ARIMA(2,0,3)(0,0,0)[0]             : AIC=51033.986, Time=2.78 sec\n",
      " ARIMA(1,0,3)(0,0,0)[0]             : AIC=51027.820, Time=4.29 sec\n",
      " ARIMA(0,0,3)(0,0,0)[0]             : AIC=51030.053, Time=3.56 sec\n",
      " ARIMA(1,0,4)(0,0,0)[0]             : AIC=51033.941, Time=2.93 sec\n",
      " ARIMA(0,0,4)(0,0,0)[0]             : AIC=51031.993, Time=1.87 sec\n",
      " ARIMA(2,0,4)(0,0,0)[0]             : AIC=51035.977, Time=3.50 sec\n",
      " ARIMA(1,0,3)(0,0,0)[0] intercept   : AIC=51029.110, Time=6.69 sec\n",
      "\n",
      "Best model:  ARIMA(1,0,3)(0,0,0)[0]          \n",
      "Total fit time: 46.905 seconds\n"
     ]
    }
   ],
   "source": [
    "model_with_dax_only = auto_arima(data.int_spx, exogenous = data[['int_dax']],\n",
    "                       start_p = 0, start_q = 0,max_p =5, max_q = 5, seasonal= False,trace = True)"
   ]
  },
  {
   "cell_type": "code",
   "execution_count": 48,
   "metadata": {},
   "outputs": [
    {
     "name": "stderr",
     "output_type": "stream",
     "text": [
      "C:\\Users\\Henry\\anaconda3\\lib\\site-packages\\statsmodels\\tsa\\arima_model.py:472: FutureWarning: \n",
      "statsmodels.tsa.arima_model.ARMA and statsmodels.tsa.arima_model.ARIMA have\n",
      "been deprecated in favor of statsmodels.tsa.arima.model.ARIMA (note the .\n",
      "between arima and model) and\n",
      "statsmodels.tsa.SARIMAX. These will be removed after the 0.12 release.\n",
      "\n",
      "statsmodels.tsa.arima.model.ARIMA makes use of the statespace framework and\n",
      "is both well tested and maintained.\n",
      "\n",
      "To silence this warning and continue using ARMA and ARIMA until they are\n",
      "removed, use:\n",
      "\n",
      "import warnings\n",
      "warnings.filterwarnings('ignore', 'statsmodels.tsa.arima_model.ARMA',\n",
      "                        FutureWarning)\n",
      "warnings.filterwarnings('ignore', 'statsmodels.tsa.arima_model.ARIMA',\n",
      "                        FutureWarning)\n",
      "\n",
      "  warnings.warn(ARIMA_DEPRECATION_WARN, FutureWarning)\n"
     ]
    }
   ],
   "source": [
    "model_with_dax_only= ARIMA(data.int_spx, exog = data[['int_dax']], order = (1,0,3))\n",
    "results_dax_only = model_with_dax_only.fit()\n",
    "\n",
    "prediction_2 = results_dax_only.predict(Start_int_spx,end_int_spx, \n",
    "                                          exog = test[['int_dax']][Start_int_spx:end_int_spx]) \n",
    "\n"
   ]
  },
  {
   "cell_type": "code",
   "execution_count": 49,
   "metadata": {},
   "outputs": [
    {
     "data": {
      "text/plain": [
       "<AxesSubplot:xlabel='date'>"
      ]
     },
     "execution_count": 49,
     "metadata": {},
     "output_type": "execute_result"
    },
    {
     "data": {
      "image/png": "[encoded data removed]",
      "text/plain": [
       "<Figure size 1008x432 with 1 Axes>"
      ]
     },
     "metadata": {
      "needs_background": "light"
     },
     "output_type": "display_data"
    }
   ],
   "source": [
    "test.int_spx.plot(legend=True,figsize =(14,6))\n",
    "prediction_2.plot(legend=True)"
   ]
  },
  {
   "cell_type": "code",
   "execution_count": 50,
   "metadata": {},
   "outputs": [
    {
     "name": "stdout",
     "output_type": "stream",
     "text": [
      "21.035166322139656\n"
     ]
    }
   ],
   "source": [
    "print(np.sqrt(mean_squared_error(test.int_spx,prediction_2 )))"
   ]
  },
  {
   "cell_type": "code",
   "execution_count": 51,
   "metadata": {},
   "outputs": [
    {
     "name": "stdout",
     "output_type": "stream",
     "text": [
      "Performing stepwise search to minimize aic\n",
      " ARIMA(0,0,0)(0,0,0)[0]             : AIC=51825.079, Time=1.67 sec\n",
      " ARIMA(1,0,0)(0,0,0)[0]             : AIC=51168.770, Time=1.03 sec\n",
      " ARIMA(0,0,1)(0,0,0)[0]             : AIC=51031.220, Time=1.73 sec\n",
      " ARIMA(1,0,1)(0,0,0)[0]             : AIC=51030.055, Time=1.77 sec\n",
      " ARIMA(2,0,1)(0,0,0)[0]             : AIC=51031.522, Time=1.90 sec\n",
      " ARIMA(1,0,2)(0,0,0)[0]             : AIC=51031.703, Time=2.08 sec\n",
      " ARIMA(0,0,2)(0,0,0)[0]             : AIC=51030.217, Time=2.20 sec\n",
      " ARIMA(2,0,0)(0,0,0)[0]             : AIC=51064.760, Time=2.05 sec\n",
      " ARIMA(2,0,2)(0,0,0)[0]             : AIC=51033.260, Time=2.76 sec\n",
      " ARIMA(1,0,1)(0,0,0)[0] intercept   : AIC=51031.357, Time=2.35 sec\n",
      "\n",
      "Best model:  ARIMA(1,0,1)(0,0,0)[0]          \n",
      "Total fit time: 19.538 seconds\n"
     ]
    }
   ],
   "source": [
    "# Now am gonna add ftse , dax to spx model and see if rms will reduced further\n",
    "\n",
    "model_with_dax_ftse_only = auto_arima(data.int_spx, exogenous = data[['int_dax','int_ftse']],\n",
    "                       start_p = 0, start_q = 0,max_p =5, max_q = 5, seasonal= False,trace = True)"
   ]
  },
  {
   "cell_type": "code",
   "execution_count": 52,
   "metadata": {},
   "outputs": [
    {
     "name": "stderr",
     "output_type": "stream",
     "text": [
      "C:\\Users\\Henry\\anaconda3\\lib\\site-packages\\statsmodels\\tsa\\arima_model.py:472: FutureWarning: \n",
      "statsmodels.tsa.arima_model.ARMA and statsmodels.tsa.arima_model.ARIMA have\n",
      "been deprecated in favor of statsmodels.tsa.arima.model.ARIMA (note the .\n",
      "between arima and model) and\n",
      "statsmodels.tsa.SARIMAX. These will be removed after the 0.12 release.\n",
      "\n",
      "statsmodels.tsa.arima.model.ARIMA makes use of the statespace framework and\n",
      "is both well tested and maintained.\n",
      "\n",
      "To silence this warning and continue using ARMA and ARIMA until they are\n",
      "removed, use:\n",
      "\n",
      "import warnings\n",
      "warnings.filterwarnings('ignore', 'statsmodels.tsa.arima_model.ARMA',\n",
      "                        FutureWarning)\n",
      "warnings.filterwarnings('ignore', 'statsmodels.tsa.arima_model.ARIMA',\n",
      "                        FutureWarning)\n",
      "\n",
      "  warnings.warn(ARIMA_DEPRECATION_WARN, FutureWarning)\n"
     ]
    }
   ],
   "source": [
    "model_with_dax_ftse_only= ARIMA(data.int_spx, exog = data[['int_dax','int_ftse']], order = (1,0,1))\n",
    "results_dax_ftse_only = model_with_dax_ftse_only.fit()\n",
    "\n",
    "prediction_3 = results_dax_ftse_only.predict(Start_int_spx,end_int_spx, \n",
    "                                          exog = test[['int_dax','int_ftse']][Start_int_spx:end_int_spx]) \n"
   ]
  },
  {
   "cell_type": "code",
   "execution_count": 53,
   "metadata": {},
   "outputs": [
    {
     "data": {
      "text/plain": [
       "<AxesSubplot:xlabel='date'>"
      ]
     },
     "execution_count": 53,
     "metadata": {},
     "output_type": "execute_result"
    },
    {
     "data": {
      "image/png": "[encoded data removed]",
      "text/plain": [
       "<Figure size 1008x432 with 1 Axes>"
      ]
     },
     "metadata": {
      "needs_background": "light"
     },
     "output_type": "display_data"
    }
   ],
   "source": [
    "test.int_spx.plot(legend=True,figsize =(14,6))\n",
    "prediction_3.plot(legend=True)"
   ]
  },
  {
   "cell_type": "code",
   "execution_count": 54,
   "metadata": {},
   "outputs": [
    {
     "name": "stdout",
     "output_type": "stream",
     "text": [
      "20.953271216918978\n"
     ]
    }
   ],
   "source": [
    "print(np.sqrt(mean_squared_error(test.int_spx,prediction_3 )))"
   ]
  },
  {
   "cell_type": "code",
   "execution_count": 55,
   "metadata": {},
   "outputs": [
    {
     "name": "stdout",
     "output_type": "stream",
     "text": [
      "Performing stepwise search to minimize aic\n",
      " ARIMA(0,0,0)(0,0,0)[0]             : AIC=51363.275, Time=2.95 sec\n",
      " ARIMA(1,0,0)(0,0,0)[0]             : AIC=50783.901, Time=1.27 sec\n",
      " ARIMA(0,0,1)(0,0,0)[0]             : AIC=50670.962, Time=1.94 sec\n",
      " ARIMA(1,0,1)(0,0,0)[0]             : AIC=50669.343, Time=4.44 sec\n",
      " ARIMA(2,0,1)(0,0,0)[0]             : AIC=50671.193, Time=5.05 sec\n",
      " ARIMA(1,0,2)(0,0,0)[0]             : AIC=50671.254, Time=6.10 sec\n",
      " ARIMA(0,0,2)(0,0,0)[0]             : AIC=50669.750, Time=2.74 sec\n",
      " ARIMA(2,0,0)(0,0,0)[0]             : AIC=50694.345, Time=4.00 sec\n",
      " ARIMA(2,0,2)(0,0,0)[0]             : AIC=50673.129, Time=7.42 sec\n",
      " ARIMA(1,0,1)(0,0,0)[0] intercept   : AIC=50670.496, Time=5.40 sec\n",
      "\n",
      "Best model:  ARIMA(1,0,1)(0,0,0)[0]          \n",
      "Total fit time: 41.307 seconds\n"
     ]
    }
   ],
   "source": [
    "# The final check will include nikkei, dax, ftse and spx\n",
    "\n",
    "model_with_dax_ftse_nikkei= auto_arima(data.int_spx, exogenous = data[['int_dax','int_ftse','int_nikkei']],\n",
    "                       start_p = 0, start_q = 0,max_p =5, max_q = 5, seasonal= False,trace = True)"
   ]
  },
  {
   "cell_type": "code",
   "execution_count": 56,
   "metadata": {},
   "outputs": [
    {
     "name": "stderr",
     "output_type": "stream",
     "text": [
      "C:\\Users\\Henry\\anaconda3\\lib\\site-packages\\statsmodels\\tsa\\arima_model.py:472: FutureWarning: \n",
      "statsmodels.tsa.arima_model.ARMA and statsmodels.tsa.arima_model.ARIMA have\n",
      "been deprecated in favor of statsmodels.tsa.arima.model.ARIMA (note the .\n",
      "between arima and model) and\n",
      "statsmodels.tsa.SARIMAX. These will be removed after the 0.12 release.\n",
      "\n",
      "statsmodels.tsa.arima.model.ARIMA makes use of the statespace framework and\n",
      "is both well tested and maintained.\n",
      "\n",
      "To silence this warning and continue using ARMA and ARIMA until they are\n",
      "removed, use:\n",
      "\n",
      "import warnings\n",
      "warnings.filterwarnings('ignore', 'statsmodels.tsa.arima_model.ARMA',\n",
      "                        FutureWarning)\n",
      "warnings.filterwarnings('ignore', 'statsmodels.tsa.arima_model.ARIMA',\n",
      "                        FutureWarning)\n",
      "\n",
      "  warnings.warn(ARIMA_DEPRECATION_WARN, FutureWarning)\n"
     ]
    }
   ],
   "source": [
    "model_with_dax_ftse_nikkei= ARIMA(data.int_spx, exog = data[['int_dax','int_ftse','nikkei']], order = (1,0,1))\n",
    "results_dax_ftse_nikkei = model_with_dax_ftse_nikkei.fit()\n",
    "\n",
    "prediction_4 = results_dax_ftse_nikkei.predict(Start_int_spx,end_int_spx, \n",
    "                                          exog = test[['int_dax','int_ftse']][Start_int_spx:end_int_spx]) \n"
   ]
  },
  {
   "cell_type": "code",
   "execution_count": 57,
   "metadata": {},
   "outputs": [
    {
     "data": {
      "text/plain": [
       "<AxesSubplot:xlabel='date'>"
      ]
     },
     "execution_count": 57,
     "metadata": {},
     "output_type": "execute_result"
    },
    {
     "data": {
      "image/png": "[encoded data removed]",
      "text/plain": [
       "<Figure size 1008x432 with 1 Axes>"
      ]
     },
     "metadata": {
      "needs_background": "light"
     },
     "output_type": "display_data"
    }
   ],
   "source": [
    "test.int_spx.plot(legend=True,figsize =(14,6))\n",
    "prediction_4.plot(legend=True)"
   ]
  },
  {
   "cell_type": "code",
   "execution_count": 58,
   "metadata": {},
   "outputs": [
    {
     "name": "stdout",
     "output_type": "stream",
     "text": [
      "20.802732445990323\n"
     ]
    }
   ],
   "source": [
    "print(np.sqrt(mean_squared_error(test.int_spx,prediction_4 )))"
   ]
  },
  {
   "cell_type": "markdown",
   "metadata": {},
   "source": [
    "# As can be seen, rms reduces as each feature is introduced showing they all have a relationship with spx. So the final model used for forcasting will be the combination of exog(dax,ftse & nikkei)"
   ]
  },
  {
   "cell_type": "code",
   "execution_count": 59,
   "metadata": {},
   "outputs": [
    {
     "name": "stderr",
     "output_type": "stream",
     "text": [
      "C:\\Users\\Henry\\anaconda3\\lib\\site-packages\\statsmodels\\tsa\\arima_model.py:472: FutureWarning: \n",
      "statsmodels.tsa.arima_model.ARMA and statsmodels.tsa.arima_model.ARIMA have\n",
      "been deprecated in favor of statsmodels.tsa.arima.model.ARIMA (note the .\n",
      "between arima and model) and\n",
      "statsmodels.tsa.SARIMAX. These will be removed after the 0.12 release.\n",
      "\n",
      "statsmodels.tsa.arima.model.ARIMA makes use of the statespace framework and\n",
      "is both well tested and maintained.\n",
      "\n",
      "To silence this warning and continue using ARMA and ARIMA until they are\n",
      "removed, use:\n",
      "\n",
      "import warnings\n",
      "warnings.filterwarnings('ignore', 'statsmodels.tsa.arima_model.ARMA',\n",
      "                        FutureWarning)\n",
      "warnings.filterwarnings('ignore', 'statsmodels.tsa.arima_model.ARIMA',\n",
      "                        FutureWarning)\n",
      "\n",
      "  warnings.warn(ARIMA_DEPRECATION_WARN, FutureWarning)\n"
     ]
    }
   ],
   "source": [
    "# to forcast, Am going to use the full dataset\n",
    "model = ARIMA(data.int_spx, exog = data[['int_dax','int_ftse','int_nikkei']], order = (1,0,1))\n",
    "result = model.fit()"
   ]
  },
  {
   "cell_type": "code",
   "execution_count": 60,
   "metadata": {},
   "outputs": [
    {
     "name": "stderr",
     "output_type": "stream",
     "text": [
      "C:\\Users\\Henry\\anaconda3\\lib\\site-packages\\statsmodels\\tsa\\arima_model.py:827: SpecificationWarning: \n",
      "The number of observations in exog does not match the number of out-of-sample\n",
      "observations.  This might indicate that exog is not correctly aligned. exog\n",
      "should be aligned so that the exog[0] is used for the first out-of-sample\n",
      "forecast, and exog[-1] is used for the last out-of-sample forecast.\n",
      "exog is not used for in-sample observations which are the fitted values.\n",
      "\n",
      "To silence this warning, ensure the number of observation in exog (6265)\n",
      "matches the number of out-of-sample forecasts (39)'\n",
      "\n",
      "  warnings.warn(msg, SpecificationWarning)\n"
     ]
    }
   ],
   "source": [
    "exog_forecast = data[0:-nobs][['int_dax','int_ftse','int_nikkei']] \n",
    "\n",
    "fcast = result.predict(len(data.int_spx),len(data.int_spx)+38,exog=exog_forecast).rename('ARIMAX(1,0,1) Forecast')"
   ]
  },
  {
   "cell_type": "code",
   "execution_count": 61,
   "metadata": {},
   "outputs": [
    {
     "data": {
      "text/html": [
       "<div>\n",
       "<style scoped>\n",
       "    .dataframe tbody tr th:only-of-type {\n",
       "        vertical-align: middle;\n",
       "    }\n",
       "\n",
       "    .dataframe tbody tr th {\n",
       "        vertical-align: top;\n",
       "    }\n",
       "\n",
       "    .dataframe thead th {\n",
       "        text-align: right;\n",
       "    }\n",
       "</style>\n",
       "<table border=\"1\" class=\"dataframe\">\n",
       "  <thead>\n",
       "    <tr style=\"text-align: right;\">\n",
       "      <th></th>\n",
       "      <th>spx</th>\n",
       "      <th>dax</th>\n",
       "      <th>ftse</th>\n",
       "      <th>nikkei</th>\n",
       "      <th>rolling_avg_ftse</th>\n",
       "      <th>rolling_avg_spx</th>\n",
       "      <th>rolling_avg_dax</th>\n",
       "      <th>rolling_avg_nikkei</th>\n",
       "      <th>int_ftse</th>\n",
       "      <th>int_dax</th>\n",
       "      <th>int_nikkei</th>\n",
       "      <th>int_spx</th>\n",
       "    </tr>\n",
       "    <tr>\n",
       "      <th>date</th>\n",
       "      <th></th>\n",
       "      <th></th>\n",
       "      <th></th>\n",
       "      <th></th>\n",
       "      <th></th>\n",
       "      <th></th>\n",
       "      <th></th>\n",
       "      <th></th>\n",
       "      <th></th>\n",
       "      <th></th>\n",
       "      <th></th>\n",
       "      <th></th>\n",
       "    </tr>\n",
       "  </thead>\n",
       "  <tbody>\n",
       "    <tr>\n",
       "      <th>2018-01-26</th>\n",
       "      <td>2872.0</td>\n",
       "      <td>13340.0</td>\n",
       "      <td>7665.0</td>\n",
       "      <td>23631.0</td>\n",
       "      <td>7685.571429</td>\n",
       "      <td>2832.428571</td>\n",
       "      <td>13398.428571</td>\n",
       "      <td>23821.571429</td>\n",
       "      <td>50.0</td>\n",
       "      <td>42.0</td>\n",
       "      <td>-38.0</td>\n",
       "      <td>33.0</td>\n",
       "    </tr>\n",
       "    <tr>\n",
       "      <th>2018-01-29</th>\n",
       "      <td>2853.0</td>\n",
       "      <td>13324.0</td>\n",
       "      <td>7671.0</td>\n",
       "      <td>23629.0</td>\n",
       "      <td>7681.428571</td>\n",
       "      <td>2840.285714</td>\n",
       "      <td>13404.571429</td>\n",
       "      <td>23802.428571</td>\n",
       "      <td>6.0</td>\n",
       "      <td>-16.0</td>\n",
       "      <td>-2.0</td>\n",
       "      <td>-19.0</td>\n",
       "    </tr>\n",
       "  </tbody>\n",
       "</table>\n",
       "</div>"
      ],
      "text/plain": [
       "               spx      dax    ftse   nikkei  rolling_avg_ftse  \\\n",
       "date                                                             \n",
       "2018-01-26  2872.0  13340.0  7665.0  23631.0       7685.571429   \n",
       "2018-01-29  2853.0  13324.0  7671.0  23629.0       7681.428571   \n",
       "\n",
       "            rolling_avg_spx  rolling_avg_dax  rolling_avg_nikkei  int_ftse  \\\n",
       "date                                                                         \n",
       "2018-01-26      2832.428571     13398.428571        23821.571429      50.0   \n",
       "2018-01-29      2840.285714     13404.571429        23802.428571       6.0   \n",
       "\n",
       "            int_dax  int_nikkei  int_spx  \n",
       "date                                      \n",
       "2018-01-26     42.0       -38.0     33.0  \n",
       "2018-01-29    -16.0        -2.0    -19.0  "
      ]
     },
     "execution_count": 61,
     "metadata": {},
     "output_type": "execute_result"
    }
   ],
   "source": [
    "data.tail(2)"
   ]
  },
  {
   "cell_type": "code",
   "execution_count": 62,
   "metadata": {},
   "outputs": [
    {
     "data": {
      "text/html": [
       "<div>\n",
       "<style scoped>\n",
       "    .dataframe tbody tr th:only-of-type {\n",
       "        vertical-align: middle;\n",
       "    }\n",
       "\n",
       "    .dataframe tbody tr th {\n",
       "        vertical-align: top;\n",
       "    }\n",
       "\n",
       "    .dataframe thead th {\n",
       "        text-align: right;\n",
       "    }\n",
       "</style>\n",
       "<table border=\"1\" class=\"dataframe\">\n",
       "  <thead>\n",
       "    <tr style=\"text-align: right;\">\n",
       "      <th></th>\n",
       "      <th>spx</th>\n",
       "      <th>dax</th>\n",
       "      <th>ftse</th>\n",
       "      <th>nikkei</th>\n",
       "      <th>rolling_avg_ftse</th>\n",
       "      <th>rolling_avg_spx</th>\n",
       "      <th>rolling_avg_dax</th>\n",
       "      <th>rolling_avg_nikkei</th>\n",
       "      <th>int_ftse</th>\n",
       "      <th>int_dax</th>\n",
       "      <th>int_nikkei</th>\n",
       "      <th>int_spx</th>\n",
       "    </tr>\n",
       "    <tr>\n",
       "      <th>date</th>\n",
       "      <th></th>\n",
       "      <th></th>\n",
       "      <th></th>\n",
       "      <th></th>\n",
       "      <th></th>\n",
       "      <th></th>\n",
       "      <th></th>\n",
       "      <th></th>\n",
       "      <th></th>\n",
       "      <th></th>\n",
       "      <th></th>\n",
       "      <th></th>\n",
       "    </tr>\n",
       "  </thead>\n",
       "  <tbody>\n",
       "    <tr>\n",
       "      <th>2018-01-26</th>\n",
       "      <td>2872.0</td>\n",
       "      <td>13340.0</td>\n",
       "      <td>7665.0</td>\n",
       "      <td>23631.0</td>\n",
       "      <td>7685.571429</td>\n",
       "      <td>2832.428571</td>\n",
       "      <td>13398.428571</td>\n",
       "      <td>23821.571429</td>\n",
       "      <td>50.0</td>\n",
       "      <td>42.0</td>\n",
       "      <td>-38.0</td>\n",
       "      <td>33.0</td>\n",
       "    </tr>\n",
       "    <tr>\n",
       "      <th>2018-01-29</th>\n",
       "      <td>2853.0</td>\n",
       "      <td>13324.0</td>\n",
       "      <td>7671.0</td>\n",
       "      <td>23629.0</td>\n",
       "      <td>7681.428571</td>\n",
       "      <td>2840.285714</td>\n",
       "      <td>13404.571429</td>\n",
       "      <td>23802.428571</td>\n",
       "      <td>6.0</td>\n",
       "      <td>-16.0</td>\n",
       "      <td>-2.0</td>\n",
       "      <td>-19.0</td>\n",
       "    </tr>\n",
       "  </tbody>\n",
       "</table>\n",
       "</div>"
      ],
      "text/plain": [
       "               spx      dax    ftse   nikkei  rolling_avg_ftse  \\\n",
       "date                                                             \n",
       "2018-01-26  2872.0  13340.0  7665.0  23631.0       7685.571429   \n",
       "2018-01-29  2853.0  13324.0  7671.0  23629.0       7681.428571   \n",
       "\n",
       "            rolling_avg_spx  rolling_avg_dax  rolling_avg_nikkei  int_ftse  \\\n",
       "date                                                                         \n",
       "2018-01-26      2832.428571     13398.428571        23821.571429      50.0   \n",
       "2018-01-29      2840.285714     13404.571429        23802.428571       6.0   \n",
       "\n",
       "            int_dax  int_nikkei  int_spx  \n",
       "date                                      \n",
       "2018-01-26     42.0       -38.0     33.0  \n",
       "2018-01-29    -16.0        -2.0    -19.0  "
      ]
     },
     "execution_count": 62,
     "metadata": {},
     "output_type": "execute_result"
    }
   ],
   "source": [
    "test.tail(2)"
   ]
  },
  {
   "cell_type": "code",
   "execution_count": 63,
   "metadata": {},
   "outputs": [
    {
     "data": {
      "text/plain": [
       "2018-01-30    4.561454\n",
       "2018-01-31    1.352056\n",
       "2018-02-01   -2.356718\n",
       "2018-02-02   -9.048454\n",
       "2018-02-05    6.768168\n",
       "Freq: B, Name: ARIMAX(1,0,1) Forecast, dtype: float64"
      ]
     },
     "execution_count": 63,
     "metadata": {},
     "output_type": "execute_result"
    }
   ],
   "source": [
    "fcast.head(5)"
   ]
  },
  {
   "cell_type": "code",
   "execution_count": 64,
   "metadata": {},
   "outputs": [
    {
     "data": {
      "text/plain": [
       "(39,)"
      ]
     },
     "execution_count": 64,
     "metadata": {},
     "output_type": "execute_result"
    }
   ],
   "source": [
    "fcast.shape"
   ]
  },
  {
   "cell_type": "code",
   "execution_count": 65,
   "metadata": {},
   "outputs": [
    {
     "data": {
      "text/plain": [
       "<AxesSubplot:xlabel='date'>"
      ]
     },
     "execution_count": 65,
     "metadata": {},
     "output_type": "execute_result"
    },
    {
     "data": {
      "image/png": "[encoded data removed]",
      "text/plain": [
       "<Figure size 1008x432 with 1 Axes>"
      ]
     },
     "metadata": {
      "needs_background": "light"
     },
     "output_type": "display_data"
    }
   ],
   "source": [
    "fcast.plot(legend=True,figsize =(14,6))\n",
    "prediction_4.rename('Predicted_Int_SPX MODEL').plot(legend=True)\n",
    "#test.int_spx.plot(legend=True)"
   ]
  },
  {
   "cell_type": "code",
   "execution_count": 66,
   "metadata": {},
   "outputs": [],
   "source": [
    "date = pd.date_range('2018-01-30', periods=39, freq='b')"
   ]
  },
  {
   "cell_type": "code",
   "execution_count": 67,
   "metadata": {},
   "outputs": [
    {
     "data": {
      "text/plain": [
       "DatetimeIndex(['2018-01-30', '2018-01-31', '2018-02-01', '2018-02-02',\n",
       "               '2018-02-05', '2018-02-06', '2018-02-07', '2018-02-08',\n",
       "               '2018-02-09', '2018-02-12', '2018-02-13', '2018-02-14',\n",
       "               '2018-02-15', '2018-02-16', '2018-02-19', '2018-02-20',\n",
       "               '2018-02-21', '2018-02-22', '2018-02-23', '2018-02-26',\n",
       "               '2018-02-27', '2018-02-28', '2018-03-01', '2018-03-02',\n",
       "               '2018-03-05', '2018-03-06', '2018-03-07', '2018-03-08',\n",
       "               '2018-03-09', '2018-03-12', '2018-03-13', '2018-03-14',\n",
       "               '2018-03-15', '2018-03-16', '2018-03-19', '2018-03-20',\n",
       "               '2018-03-21', '2018-03-22', '2018-03-23'],\n",
       "              dtype='datetime64[ns]', freq='B')"
      ]
     },
     "execution_count": 67,
     "metadata": {},
     "output_type": "execute_result"
    }
   ],
   "source": [
    "date"
   ]
  },
  {
   "cell_type": "code",
   "execution_count": 68,
   "metadata": {},
   "outputs": [],
   "source": [
    "df_forecast = pd.DataFrame(data = fcast.values,columns=['spx1'])"
   ]
  },
  {
   "cell_type": "code",
   "execution_count": 69,
   "metadata": {},
   "outputs": [
    {
     "data": {
      "text/html": [
       "<div>\n",
       "<style scoped>\n",
       "    .dataframe tbody tr th:only-of-type {\n",
       "        vertical-align: middle;\n",
       "    }\n",
       "\n",
       "    .dataframe tbody tr th {\n",
       "        vertical-align: top;\n",
       "    }\n",
       "\n",
       "    .dataframe thead th {\n",
       "        text-align: right;\n",
       "    }\n",
       "</style>\n",
       "<table border=\"1\" class=\"dataframe\">\n",
       "  <thead>\n",
       "    <tr style=\"text-align: right;\">\n",
       "      <th></th>\n",
       "      <th>spx1</th>\n",
       "    </tr>\n",
       "  </thead>\n",
       "  <tbody>\n",
       "    <tr>\n",
       "      <th>0</th>\n",
       "      <td>4.561454</td>\n",
       "    </tr>\n",
       "    <tr>\n",
       "      <th>1</th>\n",
       "      <td>1.352056</td>\n",
       "    </tr>\n",
       "    <tr>\n",
       "      <th>2</th>\n",
       "      <td>-2.356718</td>\n",
       "    </tr>\n",
       "    <tr>\n",
       "      <th>3</th>\n",
       "      <td>-9.048454</td>\n",
       "    </tr>\n",
       "    <tr>\n",
       "      <th>4</th>\n",
       "      <td>6.768168</td>\n",
       "    </tr>\n",
       "  </tbody>\n",
       "</table>\n",
       "</div>"
      ],
      "text/plain": [
       "       spx1\n",
       "0  4.561454\n",
       "1  1.352056\n",
       "2 -2.356718\n",
       "3 -9.048454\n",
       "4  6.768168"
      ]
     },
     "execution_count": 69,
     "metadata": {},
     "output_type": "execute_result"
    }
   ],
   "source": [
    "df_forecast.head(5)"
   ]
  },
  {
   "cell_type": "code",
   "execution_count": 70,
   "metadata": {},
   "outputs": [
    {
     "data": {
      "text/html": [
       "<div>\n",
       "<style scoped>\n",
       "    .dataframe tbody tr th:only-of-type {\n",
       "        vertical-align: middle;\n",
       "    }\n",
       "\n",
       "    .dataframe tbody tr th {\n",
       "        vertical-align: top;\n",
       "    }\n",
       "\n",
       "    .dataframe thead th {\n",
       "        text-align: right;\n",
       "    }\n",
       "</style>\n",
       "<table border=\"1\" class=\"dataframe\">\n",
       "  <thead>\n",
       "    <tr style=\"text-align: right;\">\n",
       "      <th></th>\n",
       "      <th>spx1</th>\n",
       "      <th>date</th>\n",
       "    </tr>\n",
       "  </thead>\n",
       "  <tbody>\n",
       "    <tr>\n",
       "      <th>0</th>\n",
       "      <td>4.561454</td>\n",
       "      <td>2018-01-30</td>\n",
       "    </tr>\n",
       "    <tr>\n",
       "      <th>1</th>\n",
       "      <td>1.352056</td>\n",
       "      <td>2018-01-31</td>\n",
       "    </tr>\n",
       "    <tr>\n",
       "      <th>2</th>\n",
       "      <td>-2.356718</td>\n",
       "      <td>2018-02-01</td>\n",
       "    </tr>\n",
       "    <tr>\n",
       "      <th>3</th>\n",
       "      <td>-9.048454</td>\n",
       "      <td>2018-02-02</td>\n",
       "    </tr>\n",
       "  </tbody>\n",
       "</table>\n",
       "</div>"
      ],
      "text/plain": [
       "       spx1       date\n",
       "0  4.561454 2018-01-30\n",
       "1  1.352056 2018-01-31\n",
       "2 -2.356718 2018-02-01\n",
       "3 -9.048454 2018-02-02"
      ]
     },
     "execution_count": 70,
     "metadata": {},
     "output_type": "execute_result"
    }
   ],
   "source": [
    "df_forecast['date'] = date\n",
    "df_forecast.head(4)"
   ]
  },
  {
   "cell_type": "code",
   "execution_count": 71,
   "metadata": {},
   "outputs": [
    {
     "data": {
      "text/html": [
       "<div>\n",
       "<style scoped>\n",
       "    .dataframe tbody tr th:only-of-type {\n",
       "        vertical-align: middle;\n",
       "    }\n",
       "\n",
       "    .dataframe tbody tr th {\n",
       "        vertical-align: top;\n",
       "    }\n",
       "\n",
       "    .dataframe thead th {\n",
       "        text-align: right;\n",
       "    }\n",
       "</style>\n",
       "<table border=\"1\" class=\"dataframe\">\n",
       "  <thead>\n",
       "    <tr style=\"text-align: right;\">\n",
       "      <th></th>\n",
       "      <th>spx1</th>\n",
       "    </tr>\n",
       "    <tr>\n",
       "      <th>date</th>\n",
       "      <th></th>\n",
       "    </tr>\n",
       "  </thead>\n",
       "  <tbody>\n",
       "    <tr>\n",
       "      <th>2018-01-30</th>\n",
       "      <td>4.561454</td>\n",
       "    </tr>\n",
       "    <tr>\n",
       "      <th>2018-01-31</th>\n",
       "      <td>1.352056</td>\n",
       "    </tr>\n",
       "    <tr>\n",
       "      <th>2018-02-01</th>\n",
       "      <td>-2.356718</td>\n",
       "    </tr>\n",
       "  </tbody>\n",
       "</table>\n",
       "</div>"
      ],
      "text/plain": [
       "                spx1\n",
       "date                \n",
       "2018-01-30  4.561454\n",
       "2018-01-31  1.352056\n",
       "2018-02-01 -2.356718"
      ]
     },
     "execution_count": 71,
     "metadata": {},
     "output_type": "execute_result"
    }
   ],
   "source": [
    "df_forecast.set_index('date',inplace = True)\n",
    "df_forecast.head(3)"
   ]
  },
  {
   "cell_type": "code",
   "execution_count": 72,
   "metadata": {},
   "outputs": [],
   "source": [
    "# Assuming 2 differening was done.\n",
    "# df_forecast['spx1'] = (df['spx'].iloc[-nobs-1]-df['spx'].iloc[-nobs-2]) + df_forecast['spx2'].cumsum()\n",
    "\n",
    "\n",
    "# Now build the forecast values from the first difference set\n",
    "df_forecast['spx_forcast'] = data['spx'].iloc[-nobs-1] + df_forecast['spx1'].cumsum()"
   ]
  },
  {
   "cell_type": "code",
   "execution_count": 73,
   "metadata": {},
   "outputs": [
    {
     "data": {
      "text/html": [
       "<div>\n",
       "<style scoped>\n",
       "    .dataframe tbody tr th:only-of-type {\n",
       "        vertical-align: middle;\n",
       "    }\n",
       "\n",
       "    .dataframe tbody tr th {\n",
       "        vertical-align: top;\n",
       "    }\n",
       "\n",
       "    .dataframe thead th {\n",
       "        text-align: right;\n",
       "    }\n",
       "</style>\n",
       "<table border=\"1\" class=\"dataframe\">\n",
       "  <thead>\n",
       "    <tr style=\"text-align: right;\">\n",
       "      <th></th>\n",
       "      <th>spx1</th>\n",
       "      <th>spx_forcast</th>\n",
       "    </tr>\n",
       "    <tr>\n",
       "      <th>date</th>\n",
       "      <th></th>\n",
       "      <th></th>\n",
       "    </tr>\n",
       "  </thead>\n",
       "  <tbody>\n",
       "    <tr>\n",
       "      <th>2018-01-30</th>\n",
       "      <td>4.561454</td>\n",
       "      <td>2771.561454</td>\n",
       "    </tr>\n",
       "    <tr>\n",
       "      <th>2018-01-31</th>\n",
       "      <td>1.352056</td>\n",
       "      <td>2772.913510</td>\n",
       "    </tr>\n",
       "    <tr>\n",
       "      <th>2018-02-01</th>\n",
       "      <td>-2.356718</td>\n",
       "      <td>2770.556792</td>\n",
       "    </tr>\n",
       "    <tr>\n",
       "      <th>2018-02-02</th>\n",
       "      <td>-9.048454</td>\n",
       "      <td>2761.508338</td>\n",
       "    </tr>\n",
       "    <tr>\n",
       "      <th>2018-02-05</th>\n",
       "      <td>6.768168</td>\n",
       "      <td>2768.276506</td>\n",
       "    </tr>\n",
       "    <tr>\n",
       "      <th>2018-02-06</th>\n",
       "      <td>-9.029177</td>\n",
       "      <td>2759.247329</td>\n",
       "    </tr>\n",
       "    <tr>\n",
       "      <th>2018-02-07</th>\n",
       "      <td>-0.791077</td>\n",
       "      <td>2758.456252</td>\n",
       "    </tr>\n",
       "    <tr>\n",
       "      <th>2018-02-08</th>\n",
       "      <td>7.520594</td>\n",
       "      <td>2765.976846</td>\n",
       "    </tr>\n",
       "    <tr>\n",
       "      <th>2018-02-09</th>\n",
       "      <td>-3.085879</td>\n",
       "      <td>2762.890967</td>\n",
       "    </tr>\n",
       "    <tr>\n",
       "      <th>2018-02-12</th>\n",
       "      <td>-2.138856</td>\n",
       "      <td>2760.752111</td>\n",
       "    </tr>\n",
       "  </tbody>\n",
       "</table>\n",
       "</div>"
      ],
      "text/plain": [
       "                spx1  spx_forcast\n",
       "date                             \n",
       "2018-01-30  4.561454  2771.561454\n",
       "2018-01-31  1.352056  2772.913510\n",
       "2018-02-01 -2.356718  2770.556792\n",
       "2018-02-02 -9.048454  2761.508338\n",
       "2018-02-05  6.768168  2768.276506\n",
       "2018-02-06 -9.029177  2759.247329\n",
       "2018-02-07 -0.791077  2758.456252\n",
       "2018-02-08  7.520594  2765.976846\n",
       "2018-02-09 -3.085879  2762.890967\n",
       "2018-02-12 -2.138856  2760.752111"
      ]
     },
     "execution_count": 73,
     "metadata": {},
     "output_type": "execute_result"
    }
   ],
   "source": [
    "df_forecast.head(10)"
   ]
  },
  {
   "cell_type": "code",
   "execution_count": 74,
   "metadata": {},
   "outputs": [
    {
     "data": {
      "text/html": [
       "<div>\n",
       "<style scoped>\n",
       "    .dataframe tbody tr th:only-of-type {\n",
       "        vertical-align: middle;\n",
       "    }\n",
       "\n",
       "    .dataframe tbody tr th {\n",
       "        vertical-align: top;\n",
       "    }\n",
       "\n",
       "    .dataframe thead th {\n",
       "        text-align: right;\n",
       "    }\n",
       "</style>\n",
       "<table border=\"1\" class=\"dataframe\">\n",
       "  <thead>\n",
       "    <tr style=\"text-align: right;\">\n",
       "      <th></th>\n",
       "      <th>spx</th>\n",
       "      <th>dax</th>\n",
       "      <th>ftse</th>\n",
       "      <th>nikkei</th>\n",
       "      <th>rolling_avg_ftse</th>\n",
       "      <th>rolling_avg_spx</th>\n",
       "      <th>rolling_avg_dax</th>\n",
       "      <th>rolling_avg_nikkei</th>\n",
       "      <th>int_ftse</th>\n",
       "      <th>int_dax</th>\n",
       "      <th>int_nikkei</th>\n",
       "      <th>int_spx</th>\n",
       "    </tr>\n",
       "    <tr>\n",
       "      <th>date</th>\n",
       "      <th></th>\n",
       "      <th></th>\n",
       "      <th></th>\n",
       "      <th></th>\n",
       "      <th></th>\n",
       "      <th></th>\n",
       "      <th></th>\n",
       "      <th></th>\n",
       "      <th></th>\n",
       "      <th></th>\n",
       "      <th></th>\n",
       "      <th></th>\n",
       "    </tr>\n",
       "  </thead>\n",
       "  <tbody>\n",
       "    <tr>\n",
       "      <th>2018-01-29</th>\n",
       "      <td>2853.0</td>\n",
       "      <td>13324.0</td>\n",
       "      <td>7671.0</td>\n",
       "      <td>23629.0</td>\n",
       "      <td>7681.428571</td>\n",
       "      <td>2840.285714</td>\n",
       "      <td>13404.571429</td>\n",
       "      <td>23802.428571</td>\n",
       "      <td>6.0</td>\n",
       "      <td>-16.0</td>\n",
       "      <td>-2.0</td>\n",
       "      <td>-19.0</td>\n",
       "    </tr>\n",
       "  </tbody>\n",
       "</table>\n",
       "</div>"
      ],
      "text/plain": [
       "               spx      dax    ftse   nikkei  rolling_avg_ftse  \\\n",
       "date                                                             \n",
       "2018-01-29  2853.0  13324.0  7671.0  23629.0       7681.428571   \n",
       "\n",
       "            rolling_avg_spx  rolling_avg_dax  rolling_avg_nikkei  int_ftse  \\\n",
       "date                                                                         \n",
       "2018-01-29      2840.285714     13404.571429        23802.428571       6.0   \n",
       "\n",
       "            int_dax  int_nikkei  int_spx  \n",
       "date                                      \n",
       "2018-01-29    -16.0        -2.0    -19.0  "
      ]
     },
     "execution_count": 74,
     "metadata": {},
     "output_type": "execute_result"
    }
   ],
   "source": [
    "data.tail(1)"
   ]
  },
  {
   "cell_type": "code",
   "execution_count": 75,
   "metadata": {},
   "outputs": [
    {
     "data": {
      "text/plain": [
       "<AxesSubplot:xlabel='date'>"
      ]
     },
     "execution_count": 75,
     "metadata": {},
     "output_type": "execute_result"
    },
    {
     "data": {
      "image/png": "[encoded data removed]",
      "text/plain": [
       "<Figure size 1008x432 with 1 Axes>"
      ]
     },
     "metadata": {
      "needs_background": "light"
     },
     "output_type": "display_data"
    }
   ],
   "source": [
    "df_forecast.spx_forcast.plot(legend=True,figsize =(14,6))"
   ]
  },
  {
   "cell_type": "markdown",
   "metadata": {},
   "source": [
    "# finally the classical model used for spx has an rms of 20.802732445990323, effort will now be made to simulate with other approaches and the rms compared."
   ]
  },
  {
   "cell_type": "code",
   "execution_count": 76,
   "metadata": {},
   "outputs": [
    {
     "data": {
      "text/html": [
       "<div>\n",
       "<style scoped>\n",
       "    .dataframe tbody tr th:only-of-type {\n",
       "        vertical-align: middle;\n",
       "    }\n",
       "\n",
       "    .dataframe tbody tr th {\n",
       "        vertical-align: top;\n",
       "    }\n",
       "\n",
       "    .dataframe thead th {\n",
       "        text-align: right;\n",
       "    }\n",
       "</style>\n",
       "<table border=\"1\" class=\"dataframe\">\n",
       "  <thead>\n",
       "    <tr style=\"text-align: right;\">\n",
       "      <th></th>\n",
       "      <th>spx</th>\n",
       "      <th>dax</th>\n",
       "      <th>ftse</th>\n",
       "      <th>nikkei</th>\n",
       "      <th>rolling_avg_ftse</th>\n",
       "      <th>rolling_avg_spx</th>\n",
       "      <th>rolling_avg_dax</th>\n",
       "      <th>rolling_avg_nikkei</th>\n",
       "      <th>int_ftse</th>\n",
       "      <th>int_dax</th>\n",
       "      <th>int_nikkei</th>\n",
       "      <th>int_spx</th>\n",
       "    </tr>\n",
       "    <tr>\n",
       "      <th>date</th>\n",
       "      <th></th>\n",
       "      <th></th>\n",
       "      <th></th>\n",
       "      <th></th>\n",
       "      <th></th>\n",
       "      <th></th>\n",
       "      <th></th>\n",
       "      <th></th>\n",
       "      <th></th>\n",
       "      <th></th>\n",
       "      <th></th>\n",
       "      <th></th>\n",
       "    </tr>\n",
       "  </thead>\n",
       "  <tbody>\n",
       "    <tr>\n",
       "      <th>1994-01-10</th>\n",
       "      <td>475.0</td>\n",
       "      <td>2225.0</td>\n",
       "      <td>3440.0</td>\n",
       "      <td>18443.0</td>\n",
       "      <td>NaN</td>\n",
       "      <td>NaN</td>\n",
       "      <td>NaN</td>\n",
       "      <td>NaN</td>\n",
       "      <td>-5.0</td>\n",
       "      <td>1.0</td>\n",
       "      <td>319.0</td>\n",
       "      <td>6.0</td>\n",
       "    </tr>\n",
       "    <tr>\n",
       "      <th>1994-01-11</th>\n",
       "      <td>474.0</td>\n",
       "      <td>2228.0</td>\n",
       "      <td>3413.0</td>\n",
       "      <td>18485.0</td>\n",
       "      <td>NaN</td>\n",
       "      <td>NaN</td>\n",
       "      <td>NaN</td>\n",
       "      <td>NaN</td>\n",
       "      <td>-27.0</td>\n",
       "      <td>3.0</td>\n",
       "      <td>42.0</td>\n",
       "      <td>-1.0</td>\n",
       "    </tr>\n",
       "    <tr>\n",
       "      <th>1994-01-12</th>\n",
       "      <td>474.0</td>\n",
       "      <td>2182.0</td>\n",
       "      <td>3372.0</td>\n",
       "      <td>18793.0</td>\n",
       "      <td>NaN</td>\n",
       "      <td>NaN</td>\n",
       "      <td>NaN</td>\n",
       "      <td>NaN</td>\n",
       "      <td>-41.0</td>\n",
       "      <td>-46.0</td>\n",
       "      <td>308.0</td>\n",
       "      <td>0.0</td>\n",
       "    </tr>\n",
       "    <tr>\n",
       "      <th>1994-01-13</th>\n",
       "      <td>472.0</td>\n",
       "      <td>2142.0</td>\n",
       "      <td>3360.0</td>\n",
       "      <td>18577.0</td>\n",
       "      <td>NaN</td>\n",
       "      <td>NaN</td>\n",
       "      <td>NaN</td>\n",
       "      <td>NaN</td>\n",
       "      <td>-12.0</td>\n",
       "      <td>-40.0</td>\n",
       "      <td>-216.0</td>\n",
       "      <td>-2.0</td>\n",
       "    </tr>\n",
       "    <tr>\n",
       "      <th>1994-01-14</th>\n",
       "      <td>474.0</td>\n",
       "      <td>2151.0</td>\n",
       "      <td>3400.0</td>\n",
       "      <td>18973.0</td>\n",
       "      <td>NaN</td>\n",
       "      <td>NaN</td>\n",
       "      <td>NaN</td>\n",
       "      <td>NaN</td>\n",
       "      <td>40.0</td>\n",
       "      <td>9.0</td>\n",
       "      <td>396.0</td>\n",
       "      <td>2.0</td>\n",
       "    </tr>\n",
       "  </tbody>\n",
       "</table>\n",
       "</div>"
      ],
      "text/plain": [
       "              spx     dax    ftse   nikkei  rolling_avg_ftse  rolling_avg_spx  \\\n",
       "date                                                                            \n",
       "1994-01-10  475.0  2225.0  3440.0  18443.0               NaN              NaN   \n",
       "1994-01-11  474.0  2228.0  3413.0  18485.0               NaN              NaN   \n",
       "1994-01-12  474.0  2182.0  3372.0  18793.0               NaN              NaN   \n",
       "1994-01-13  472.0  2142.0  3360.0  18577.0               NaN              NaN   \n",
       "1994-01-14  474.0  2151.0  3400.0  18973.0               NaN              NaN   \n",
       "\n",
       "            rolling_avg_dax  rolling_avg_nikkei  int_ftse  int_dax  \\\n",
       "date                                                                 \n",
       "1994-01-10              NaN                 NaN      -5.0      1.0   \n",
       "1994-01-11              NaN                 NaN     -27.0      3.0   \n",
       "1994-01-12              NaN                 NaN     -41.0    -46.0   \n",
       "1994-01-13              NaN                 NaN     -12.0    -40.0   \n",
       "1994-01-14              NaN                 NaN      40.0      9.0   \n",
       "\n",
       "            int_nikkei  int_spx  \n",
       "date                             \n",
       "1994-01-10       319.0      6.0  \n",
       "1994-01-11        42.0     -1.0  \n",
       "1994-01-12       308.0      0.0  \n",
       "1994-01-13      -216.0     -2.0  \n",
       "1994-01-14       396.0      2.0  "
      ]
     },
     "execution_count": 76,
     "metadata": {},
     "output_type": "execute_result"
    }
   ],
   "source": [
    "data_1.head(5)"
   ]
  },
  {
   "cell_type": "code",
   "execution_count": 77,
   "metadata": {},
   "outputs": [
    {
     "data": {
      "text/plain": [
       "array(['spx', 'dax', 'ftse', 'nikkei', 'rolling_avg_ftse',\n",
       "       'rolling_avg_spx', 'rolling_avg_dax', 'rolling_avg_nikkei',\n",
       "       'int_ftse', 'int_dax', 'int_nikkei', 'int_spx'], dtype=object)"
      ]
     },
     "execution_count": 77,
     "metadata": {},
     "output_type": "execute_result"
    }
   ],
   "source": [
    "data_1.columns.values"
   ]
  },
  {
   "cell_type": "code",
   "execution_count": 78,
   "metadata": {},
   "outputs": [],
   "source": [
    "data_1 = data_1.drop(['spx', 'dax', 'ftse', 'nikkei', 'rolling_avg_ftse',\n",
    "       'rolling_avg_spx', 'rolling_avg_dax', 'rolling_avg_nikkei'],axis =1)"
   ]
  },
  {
   "cell_type": "code",
   "execution_count": 79,
   "metadata": {},
   "outputs": [
    {
     "data": {
      "text/html": [
       "<div>\n",
       "<style scoped>\n",
       "    .dataframe tbody tr th:only-of-type {\n",
       "        vertical-align: middle;\n",
       "    }\n",
       "\n",
       "    .dataframe tbody tr th {\n",
       "        vertical-align: top;\n",
       "    }\n",
       "\n",
       "    .dataframe thead th {\n",
       "        text-align: right;\n",
       "    }\n",
       "</style>\n",
       "<table border=\"1\" class=\"dataframe\">\n",
       "  <thead>\n",
       "    <tr style=\"text-align: right;\">\n",
       "      <th></th>\n",
       "      <th>int_ftse</th>\n",
       "      <th>int_dax</th>\n",
       "      <th>int_nikkei</th>\n",
       "      <th>int_spx</th>\n",
       "    </tr>\n",
       "    <tr>\n",
       "      <th>date</th>\n",
       "      <th></th>\n",
       "      <th></th>\n",
       "      <th></th>\n",
       "      <th></th>\n",
       "    </tr>\n",
       "  </thead>\n",
       "  <tbody>\n",
       "    <tr>\n",
       "      <th>1994-01-10</th>\n",
       "      <td>-5.0</td>\n",
       "      <td>1.0</td>\n",
       "      <td>319.0</td>\n",
       "      <td>6.0</td>\n",
       "    </tr>\n",
       "    <tr>\n",
       "      <th>1994-01-11</th>\n",
       "      <td>-27.0</td>\n",
       "      <td>3.0</td>\n",
       "      <td>42.0</td>\n",
       "      <td>-1.0</td>\n",
       "    </tr>\n",
       "    <tr>\n",
       "      <th>1994-01-12</th>\n",
       "      <td>-41.0</td>\n",
       "      <td>-46.0</td>\n",
       "      <td>308.0</td>\n",
       "      <td>0.0</td>\n",
       "    </tr>\n",
       "  </tbody>\n",
       "</table>\n",
       "</div>"
      ],
      "text/plain": [
       "            int_ftse  int_dax  int_nikkei  int_spx\n",
       "date                                              \n",
       "1994-01-10      -5.0      1.0       319.0      6.0\n",
       "1994-01-11     -27.0      3.0        42.0     -1.0\n",
       "1994-01-12     -41.0    -46.0       308.0      0.0"
      ]
     },
     "execution_count": 79,
     "metadata": {},
     "output_type": "execute_result"
    }
   ],
   "source": [
    "data_1.head(3)"
   ]
  },
  {
   "cell_type": "code",
   "execution_count": 80,
   "metadata": {},
   "outputs": [],
   "source": [
    "# Export data to be used for Reconvolutional neural network\n",
    "\n",
    "\n",
    "data_1.to_csv('data_1.csv',index=True)"
   ]
  },
  {
   "cell_type": "code",
   "execution_count": 81,
   "metadata": {},
   "outputs": [
    {
     "data": {
      "text/html": [
       "<div>\n",
       "<style scoped>\n",
       "    .dataframe tbody tr th:only-of-type {\n",
       "        vertical-align: middle;\n",
       "    }\n",
       "\n",
       "    .dataframe tbody tr th {\n",
       "        vertical-align: top;\n",
       "    }\n",
       "\n",
       "    .dataframe thead th {\n",
       "        text-align: right;\n",
       "    }\n",
       "</style>\n",
       "<table border=\"1\" class=\"dataframe\">\n",
       "  <thead>\n",
       "    <tr style=\"text-align: right;\">\n",
       "      <th></th>\n",
       "      <th>int_ftse</th>\n",
       "      <th>int_dax</th>\n",
       "      <th>int_nikkei</th>\n",
       "      <th>int_spx</th>\n",
       "    </tr>\n",
       "    <tr>\n",
       "      <th>date</th>\n",
       "      <th></th>\n",
       "      <th></th>\n",
       "      <th></th>\n",
       "      <th></th>\n",
       "    </tr>\n",
       "  </thead>\n",
       "  <tbody>\n",
       "    <tr>\n",
       "      <th>1994-01-10</th>\n",
       "      <td>-5.0</td>\n",
       "      <td>1.0</td>\n",
       "      <td>319.0</td>\n",
       "      <td>6.0</td>\n",
       "    </tr>\n",
       "    <tr>\n",
       "      <th>1994-01-11</th>\n",
       "      <td>-27.0</td>\n",
       "      <td>3.0</td>\n",
       "      <td>42.0</td>\n",
       "      <td>-1.0</td>\n",
       "    </tr>\n",
       "    <tr>\n",
       "      <th>1994-01-12</th>\n",
       "      <td>-41.0</td>\n",
       "      <td>-46.0</td>\n",
       "      <td>308.0</td>\n",
       "      <td>0.0</td>\n",
       "    </tr>\n",
       "    <tr>\n",
       "      <th>1994-01-13</th>\n",
       "      <td>-12.0</td>\n",
       "      <td>-40.0</td>\n",
       "      <td>-216.0</td>\n",
       "      <td>-2.0</td>\n",
       "    </tr>\n",
       "  </tbody>\n",
       "</table>\n",
       "</div>"
      ],
      "text/plain": [
       "            int_ftse  int_dax  int_nikkei  int_spx\n",
       "date                                              \n",
       "1994-01-10      -5.0      1.0       319.0      6.0\n",
       "1994-01-11     -27.0      3.0        42.0     -1.0\n",
       "1994-01-12     -41.0    -46.0       308.0      0.0\n",
       "1994-01-13     -12.0    -40.0      -216.0     -2.0"
      ]
     },
     "execution_count": 81,
     "metadata": {},
     "output_type": "execute_result"
    }
   ],
   "source": [
    "data_1.head(4)"
   ]
  },
  {
   "cell_type": "code",
   "execution_count": 82,
   "metadata": {},
   "outputs": [],
   "source": [
    "# Now am gonna divide the data into train and test, using nobs ( no of observation = 12)\n",
    "\n",
    "nobs =12\n",
    "train_1,test_1 =data_1[0:-nobs],data_1[-nobs: ]"
   ]
  },
  {
   "cell_type": "markdown",
   "metadata": {},
   "source": [
    "# Using Auto Vector Regression"
   ]
  },
  {
   "cell_type": "code",
   "execution_count": 83,
   "metadata": {},
   "outputs": [
    {
     "data": {
      "text/plain": [
       "((6264, 4), (12, 4))"
      ]
     },
     "execution_count": 83,
     "metadata": {},
     "output_type": "execute_result"
    }
   ],
   "source": [
    "train_1.shape, test_1.shape"
   ]
  },
  {
   "cell_type": "code",
   "execution_count": 84,
   "metadata": {},
   "outputs": [
    {
     "data": {
      "text/html": [
       "<div>\n",
       "<style scoped>\n",
       "    .dataframe tbody tr th:only-of-type {\n",
       "        vertical-align: middle;\n",
       "    }\n",
       "\n",
       "    .dataframe tbody tr th {\n",
       "        vertical-align: top;\n",
       "    }\n",
       "\n",
       "    .dataframe thead th {\n",
       "        text-align: right;\n",
       "    }\n",
       "</style>\n",
       "<table border=\"1\" class=\"dataframe\">\n",
       "  <thead>\n",
       "    <tr style=\"text-align: right;\">\n",
       "      <th></th>\n",
       "      <th>int_ftse</th>\n",
       "      <th>int_dax</th>\n",
       "      <th>int_nikkei</th>\n",
       "      <th>int_spx</th>\n",
       "    </tr>\n",
       "    <tr>\n",
       "      <th>date</th>\n",
       "      <th></th>\n",
       "      <th></th>\n",
       "      <th></th>\n",
       "      <th></th>\n",
       "    </tr>\n",
       "  </thead>\n",
       "  <tbody>\n",
       "    <tr>\n",
       "      <th>2018-01-12</th>\n",
       "      <td>16.0</td>\n",
       "      <td>43.0</td>\n",
       "      <td>-57.0</td>\n",
       "      <td>19.0</td>\n",
       "    </tr>\n",
       "    <tr>\n",
       "      <th>2018-01-15</th>\n",
       "      <td>-9.0</td>\n",
       "      <td>-45.0</td>\n",
       "      <td>61.0</td>\n",
       "      <td>0.0</td>\n",
       "    </tr>\n",
       "    <tr>\n",
       "      <th>2018-01-16</th>\n",
       "      <td>-14.0</td>\n",
       "      <td>46.0</td>\n",
       "      <td>237.0</td>\n",
       "      <td>-10.0</td>\n",
       "    </tr>\n",
       "    <tr>\n",
       "      <th>2018-01-17</th>\n",
       "      <td>-30.0</td>\n",
       "      <td>-63.0</td>\n",
       "      <td>-83.0</td>\n",
       "      <td>26.0</td>\n",
       "    </tr>\n",
       "  </tbody>\n",
       "</table>\n",
       "</div>"
      ],
      "text/plain": [
       "            int_ftse  int_dax  int_nikkei  int_spx\n",
       "date                                              \n",
       "2018-01-12      16.0     43.0       -57.0     19.0\n",
       "2018-01-15      -9.0    -45.0        61.0      0.0\n",
       "2018-01-16     -14.0     46.0       237.0    -10.0\n",
       "2018-01-17     -30.0    -63.0       -83.0     26.0"
      ]
     },
     "execution_count": 84,
     "metadata": {},
     "output_type": "execute_result"
    }
   ],
   "source": [
    "test_1.head(4)"
   ]
  },
  {
   "cell_type": "code",
   "execution_count": 85,
   "metadata": {},
   "outputs": [],
   "source": [
    "from statsmodels.tsa.api import VAR\n"
   ]
  },
  {
   "cell_type": "code",
   "execution_count": 86,
   "metadata": {},
   "outputs": [
    {
     "name": "stdout",
     "output_type": "stream",
     "text": [
      "Order = 1\n",
      "AIC:  34.060803091874796\n",
      "BIC:  34.082334034178885\n",
      "\n",
      "Order = 2\n",
      "AIC:  33.95802697924608\n",
      "BIC:  33.99678794642396\n",
      "\n",
      "Order = 3\n",
      "AIC:  33.91537546090357\n",
      "BIC:  33.971371140536014\n",
      "\n",
      "Order = 4\n",
      "AIC:  33.9027074446053\n",
      "BIC:  33.97594252632389\n",
      "\n",
      "Order = 5\n",
      "AIC:  33.895336158013514\n",
      "BIC:  33.985815333501876\n",
      "\n",
      "Order = 6\n",
      "AIC:  33.893619080976194\n",
      "BIC:  34.00134704397122\n",
      "\n",
      "Order = 7\n",
      "AIC:  33.89250712614179\n",
      "BIC:  34.01748857243487\n",
      "\n"
     ]
    }
   ],
   "source": [
    "## VAR Model Order Selection\n",
    "## We'll fit a series of models using the first seven p-values, and base our final selection on the model that provides the lowest AIC and BIC scores.\n",
    "\n",
    "for i in [1,2,3,4,5,6,7]:\n",
    "    model = VAR(train_1)\n",
    "    results = model.fit(i)\n",
    "    print('Order =', i)\n",
    "    print('AIC: ', results.aic)\n",
    "    print('BIC: ', results.bic)\n",
    "    print()"
   ]
  },
  {
   "cell_type": "code",
   "execution_count": 87,
   "metadata": {},
   "outputs": [
    {
     "data": {
      "text/plain": [
       "  Summary of Regression Results   \n",
       "==================================\n",
       "Model:                         VAR\n",
       "Method:                        OLS\n",
       "Date:           Tue, 02, Mar, 2021\n",
       "Time:                     01:10:37\n",
       "--------------------------------------------------------------------\n",
       "No. of Equations:         4.00000    BIC:                    34.0175\n",
       "Nobs:                     6257.00    HQIC:                   33.9358\n",
       "Log likelihood:          -141430.    FPE:                5.23997e+14\n",
       "AIC:                      33.8925    Det(Omega_mle):     5.14394e+14\n",
       "--------------------------------------------------------------------\n",
       "Results for equation int_ftse\n",
       "================================================================================\n",
       "                   coefficient       std. error           t-stat            prob\n",
       "--------------------------------------------------------------------------------\n",
       "const                 1.379510         0.977694            1.411           0.158\n",
       "L1.int_ftse           0.035879         0.023178            1.548           0.122\n",
       "L1.int_dax           -0.239043         0.015202          -15.724           0.000\n",
       "L1.int_nikkei        -0.022128         0.004329           -5.111           0.000\n",
       "L1.int_spx            0.484195         0.073803            6.561           0.000\n",
       "L2.int_ftse           0.049406         0.023808            2.075           0.038\n",
       "L2.int_dax           -0.099898         0.015908           -6.280           0.000\n",
       "L2.int_nikkei        -0.003995         0.004593           -0.870           0.384\n",
       "L2.int_spx           -0.026922         0.081870           -0.329           0.742\n",
       "L3.int_ftse           0.012836         0.023921            0.537           0.592\n",
       "L3.int_dax           -0.058452         0.016002           -3.653           0.000\n",
       "L3.int_nikkei         0.000320         0.004614            0.069           0.945\n",
       "L3.int_spx           -0.012496         0.084145           -0.148           0.882\n",
       "L4.int_ftse           0.021932         0.023979            0.915           0.360\n",
       "L4.int_dax            0.005508         0.016043            0.343           0.731\n",
       "L4.int_nikkei         0.002416         0.004609            0.524           0.600\n",
       "L4.int_spx           -0.285765         0.084592           -3.378           0.001\n",
       "L5.int_ftse          -0.023601         0.023810           -0.991           0.322\n",
       "L5.int_dax            0.009021         0.016051            0.562           0.574\n",
       "L5.int_nikkei        -0.003309         0.004592           -0.721           0.471\n",
       "L5.int_spx           -0.132674         0.083694           -1.585           0.113\n",
       "L6.int_ftse          -0.050475         0.023588           -2.140           0.032\n",
       "L6.int_dax            0.023999         0.016027            1.497           0.134\n",
       "L6.int_nikkei         0.001171         0.004547            0.258           0.797\n",
       "L6.int_spx           -0.133866         0.080919           -1.654           0.098\n",
       "L7.int_ftse          -0.012763         0.022784           -0.560           0.575\n",
       "L7.int_dax            0.005552         0.015570            0.357           0.721\n",
       "L7.int_nikkei        -0.001786         0.004255           -0.420           0.675\n",
       "L7.int_spx           -0.052316         0.073912           -0.708           0.479\n",
       "================================================================================\n",
       "\n",
       "Results for equation int_dax\n",
       "================================================================================\n",
       "                   coefficient       std. error           t-stat            prob\n",
       "--------------------------------------------------------------------------------\n",
       "const                 4.660700         2.189244            2.129           0.033\n",
       "L1.int_ftse           0.475330         0.051901            9.158           0.000\n",
       "L1.int_dax           -0.570824         0.034041          -16.769           0.000\n",
       "L1.int_nikkei        -0.003580         0.009694           -0.369           0.712\n",
       "L1.int_spx           -0.833712         0.165259           -5.045           0.000\n",
       "L2.int_ftse           0.326422         0.053312            6.123           0.000\n",
       "L2.int_dax           -0.218179         0.035622           -6.125           0.000\n",
       "L2.int_nikkei         0.010055         0.010285            0.978           0.328\n",
       "L2.int_spx           -1.384179         0.183323           -7.551           0.000\n",
       "L3.int_ftse           0.212404         0.053563            3.965           0.000\n",
       "L3.int_dax           -0.143065         0.035832           -3.993           0.000\n",
       "L3.int_nikkei         0.008542         0.010332            0.827           0.408\n",
       "L3.int_spx           -0.970943         0.188418           -5.153           0.000\n",
       "L4.int_ftse           0.164697         0.053692            3.067           0.002\n",
       "L4.int_dax           -0.037664         0.035923           -1.048           0.294\n",
       "L4.int_nikkei         0.002999         0.010322            0.291           0.771\n",
       "L4.int_spx           -1.000120         0.189419           -5.280           0.000\n",
       "L5.int_ftse           0.048013         0.053315            0.901           0.368\n",
       "L5.int_dax           -0.019756         0.035941           -0.550           0.583\n",
       "L5.int_nikkei         0.000798         0.010283            0.078           0.938\n",
       "L5.int_spx           -0.638466         0.187406           -3.407           0.001\n",
       "L6.int_ftse          -0.017472         0.052817           -0.331           0.741\n",
       "L6.int_dax            0.018811         0.035887            0.524           0.600\n",
       "L6.int_nikkei         0.004027         0.010182            0.396           0.692\n",
       "L6.int_spx           -0.484563         0.181194           -2.674           0.007\n",
       "L7.int_ftse          -0.041945         0.051019           -0.822           0.411\n",
       "L7.int_dax            0.003275         0.034865            0.094           0.925\n",
       "L7.int_nikkei        -0.001041         0.009529           -0.109           0.913\n",
       "L7.int_spx           -0.175295         0.165502           -1.059           0.290\n",
       "================================================================================\n",
       "\n",
       "Results for equation int_nikkei\n",
       "================================================================================\n",
       "                   coefficient       std. error           t-stat            prob\n",
       "--------------------------------------------------------------------------------\n",
       "const                 2.053085         3.584317            0.573           0.567\n",
       "L1.int_ftse           1.221308         0.084974           14.373           0.000\n",
       "L1.int_dax           -0.273533         0.055734           -4.908           0.000\n",
       "L1.int_nikkei        -0.353583         0.015872          -22.277           0.000\n",
       "L1.int_spx           -1.094953         0.270569           -4.047           0.000\n",
       "L2.int_ftse           0.472696         0.087284            5.416           0.000\n",
       "L2.int_dax            0.051840         0.058321            0.889           0.374\n",
       "L2.int_nikkei        -0.104585         0.016838           -6.211           0.000\n",
       "L2.int_spx           -1.774387         0.300143           -5.912           0.000\n",
       "L3.int_ftse           0.229884         0.087696            2.621           0.009\n",
       "L3.int_dax            0.061405         0.058665            1.047           0.295\n",
       "L3.int_nikkei        -0.043055         0.016916           -2.545           0.011\n",
       "L3.int_spx           -1.303199         0.308485           -4.225           0.000\n",
       "L4.int_ftse           0.168892         0.087907            1.921           0.055\n",
       "L4.int_dax            0.085855         0.058815            1.460           0.144\n",
       "L4.int_nikkei        -0.020885         0.016899           -1.236           0.216\n",
       "L4.int_spx           -1.092946         0.310124           -3.524           0.000\n",
       "L5.int_ftse           0.128666         0.087289            1.474           0.140\n",
       "L5.int_dax            0.049484         0.058843            0.841           0.400\n",
       "L5.int_nikkei        -0.021915         0.016836           -1.302           0.193\n",
       "L5.int_spx           -0.687437         0.306829           -2.240           0.025\n",
       "L6.int_ftse          -0.058071         0.086474           -0.672           0.502\n",
       "L6.int_dax            0.029967         0.058756            0.510           0.610\n",
       "L6.int_nikkei        -0.024348         0.016671           -1.461           0.144\n",
       "L6.int_spx           -0.207262         0.296657           -0.699           0.485\n",
       "L7.int_ftse          -0.086253         0.083529           -1.033           0.302\n",
       "L7.int_dax            0.039374         0.057083            0.690           0.490\n",
       "L7.int_nikkei        -0.000348         0.015601           -0.022           0.982\n",
       "L7.int_spx           -0.136160         0.270967           -0.502           0.615\n",
       "================================================================================\n",
       "\n",
       "Results for equation int_spx\n",
       "================================================================================\n",
       "                   coefficient       std. error           t-stat            prob\n",
       "--------------------------------------------------------------------------------\n",
       "const                 1.017229         0.393418            2.586           0.010\n",
       "L1.int_ftse           0.089299         0.009327            9.574           0.000\n",
       "L1.int_dax           -0.045655         0.006117           -7.463           0.000\n",
       "L1.int_nikkei        -0.001337         0.001742           -0.767           0.443\n",
       "L1.int_spx           -0.545921         0.029698          -18.383           0.000\n",
       "L2.int_ftse           0.067205         0.009580            7.015           0.000\n",
       "L2.int_dax           -0.022761         0.006401           -3.556           0.000\n",
       "L2.int_nikkei         0.001261         0.001848            0.682           0.495\n",
       "L2.int_spx           -0.434368         0.032944          -13.185           0.000\n",
       "L3.int_ftse           0.050052         0.009626            5.200           0.000\n",
       "L3.int_dax           -0.018711         0.006439           -2.906           0.004\n",
       "L3.int_nikkei         0.001514         0.001857            0.816           0.415\n",
       "L3.int_spx           -0.291909         0.033860           -8.621           0.000\n",
       "L4.int_ftse           0.035122         0.009649            3.640           0.000\n",
       "L4.int_dax           -0.005410         0.006456           -0.838           0.402\n",
       "L4.int_nikkei         0.000099         0.001855            0.053           0.958\n",
       "L4.int_spx           -0.238344         0.034039           -7.002           0.000\n",
       "L5.int_ftse           0.021030         0.009581            2.195           0.028\n",
       "L5.int_dax           -0.003869         0.006459           -0.599           0.549\n",
       "L5.int_nikkei        -0.000228         0.001848           -0.123           0.902\n",
       "L5.int_spx           -0.158680         0.033678           -4.712           0.000\n",
       "L6.int_ftse           0.008200         0.009491            0.864           0.388\n",
       "L6.int_dax           -0.000261         0.006449           -0.040           0.968\n",
       "L6.int_nikkei        -0.000500         0.001830           -0.273           0.785\n",
       "L6.int_spx           -0.106376         0.032561           -3.267           0.001\n",
       "L7.int_ftse          -0.000221         0.009168           -0.024           0.981\n",
       "L7.int_dax           -0.000480         0.006265           -0.077           0.939\n",
       "L7.int_nikkei         0.000819         0.001712            0.478           0.633\n",
       "L7.int_spx           -0.060870         0.029742           -2.047           0.041\n",
       "================================================================================\n",
       "\n",
       "Correlation matrix of residuals\n",
       "              int_ftse   int_dax  int_nikkei   int_spx\n",
       "int_ftse      1.000000  0.836052    0.503633  0.757991\n",
       "int_dax       0.836052  1.000000    0.554890  0.896574\n",
       "int_nikkei    0.503633  0.554890    1.000000  0.597743\n",
       "int_spx       0.757991  0.896574    0.597743  1.000000\n",
       "\n"
      ]
     },
     "execution_count": 87,
     "metadata": {},
     "output_type": "execute_result"
    }
   ],
   "source": [
    "# I will choose the one with the least aic\n",
    "\n",
    "result = model.fit(7)\n",
    "result.summary()"
   ]
  },
  {
   "cell_type": "code",
   "execution_count": 88,
   "metadata": {},
   "outputs": [
    {
     "data": {
      "text/plain": [
       "(9, 4)"
      ]
     },
     "execution_count": 88,
     "metadata": {},
     "output_type": "execute_result"
    }
   ],
   "source": [
    "lagged_value = train_1.values[-9:]\n",
    "lagged_value.shape"
   ]
  },
  {
   "cell_type": "code",
   "execution_count": 89,
   "metadata": {},
   "outputs": [],
   "source": [
    "# the other I used 12 step time ie test data, so 12 + 9 = 21\n",
    "# grab 9 lagged value right before the test data starts\n",
    "\n",
    "z = results.forecast(y=lagged_value, steps=12)"
   ]
  },
  {
   "cell_type": "code",
   "execution_count": 90,
   "metadata": {},
   "outputs": [],
   "source": [
    "# convert z to dataframe\n",
    "idx = pd.date_range('2018-01-12', periods=12, freq='b')"
   ]
  },
  {
   "cell_type": "code",
   "execution_count": 91,
   "metadata": {},
   "outputs": [
    {
     "data": {
      "text/html": [
       "<div>\n",
       "<style scoped>\n",
       "    .dataframe tbody tr th:only-of-type {\n",
       "        vertical-align: middle;\n",
       "    }\n",
       "\n",
       "    .dataframe tbody tr th {\n",
       "        vertical-align: top;\n",
       "    }\n",
       "\n",
       "    .dataframe thead th {\n",
       "        text-align: right;\n",
       "    }\n",
       "</style>\n",
       "<table border=\"1\" class=\"dataframe\">\n",
       "  <thead>\n",
       "    <tr style=\"text-align: right;\">\n",
       "      <th></th>\n",
       "      <th>int_ftse</th>\n",
       "      <th>int_dax</th>\n",
       "      <th>int_nikkei</th>\n",
       "      <th>int_spx</th>\n",
       "    </tr>\n",
       "  </thead>\n",
       "  <tbody>\n",
       "    <tr>\n",
       "      <th>2018-01-12</th>\n",
       "      <td>40.702169</td>\n",
       "      <td>47.631817</td>\n",
       "      <td>31.885056</td>\n",
       "      <td>-7.041103</td>\n",
       "    </tr>\n",
       "    <tr>\n",
       "      <th>2018-01-15</th>\n",
       "      <td>1.295737</td>\n",
       "      <td>5.408434</td>\n",
       "      <td>9.895692</td>\n",
       "      <td>0.898401</td>\n",
       "    </tr>\n",
       "    <tr>\n",
       "      <th>2018-01-16</th>\n",
       "      <td>2.153557</td>\n",
       "      <td>12.953014</td>\n",
       "      <td>6.610492</td>\n",
       "      <td>1.722228</td>\n",
       "    </tr>\n",
       "    <tr>\n",
       "      <th>2018-01-17</th>\n",
       "      <td>-11.438393</td>\n",
       "      <td>-6.384882</td>\n",
       "      <td>-9.697953</td>\n",
       "      <td>-0.333375</td>\n",
       "    </tr>\n",
       "    <tr>\n",
       "      <th>2018-01-18</th>\n",
       "      <td>-2.902094</td>\n",
       "      <td>-3.755174</td>\n",
       "      <td>-9.765905</td>\n",
       "      <td>0.131729</td>\n",
       "    </tr>\n",
       "    <tr>\n",
       "      <th>2018-01-19</th>\n",
       "      <td>-3.818346</td>\n",
       "      <td>-6.678979</td>\n",
       "      <td>-1.646483</td>\n",
       "      <td>-0.330498</td>\n",
       "    </tr>\n",
       "    <tr>\n",
       "      <th>2018-01-22</th>\n",
       "      <td>1.315456</td>\n",
       "      <td>2.439528</td>\n",
       "      <td>-10.863640</td>\n",
       "      <td>-0.059582</td>\n",
       "    </tr>\n",
       "    <tr>\n",
       "      <th>2018-01-23</th>\n",
       "      <td>1.340164</td>\n",
       "      <td>1.090802</td>\n",
       "      <td>1.505597</td>\n",
       "      <td>0.742264</td>\n",
       "    </tr>\n",
       "    <tr>\n",
       "      <th>2018-01-24</th>\n",
       "      <td>1.775505</td>\n",
       "      <td>2.850737</td>\n",
       "      <td>0.872327</td>\n",
       "      <td>0.256361</td>\n",
       "    </tr>\n",
       "    <tr>\n",
       "      <th>2018-01-25</th>\n",
       "      <td>1.088694</td>\n",
       "      <td>2.379937</td>\n",
       "      <td>2.672825</td>\n",
       "      <td>0.427878</td>\n",
       "    </tr>\n",
       "    <tr>\n",
       "      <th>2018-01-26</th>\n",
       "      <td>1.019723</td>\n",
       "      <td>3.200052</td>\n",
       "      <td>2.317558</td>\n",
       "      <td>0.575567</td>\n",
       "    </tr>\n",
       "    <tr>\n",
       "      <th>2018-01-29</th>\n",
       "      <td>0.488865</td>\n",
       "      <td>1.506376</td>\n",
       "      <td>1.048688</td>\n",
       "      <td>0.330800</td>\n",
       "    </tr>\n",
       "  </tbody>\n",
       "</table>\n",
       "</div>"
      ],
      "text/plain": [
       "             int_ftse    int_dax  int_nikkei   int_spx\n",
       "2018-01-12  40.702169  47.631817   31.885056 -7.041103\n",
       "2018-01-15   1.295737   5.408434    9.895692  0.898401\n",
       "2018-01-16   2.153557  12.953014    6.610492  1.722228\n",
       "2018-01-17 -11.438393  -6.384882   -9.697953 -0.333375\n",
       "2018-01-18  -2.902094  -3.755174   -9.765905  0.131729\n",
       "2018-01-19  -3.818346  -6.678979   -1.646483 -0.330498\n",
       "2018-01-22   1.315456   2.439528  -10.863640 -0.059582\n",
       "2018-01-23   1.340164   1.090802    1.505597  0.742264\n",
       "2018-01-24   1.775505   2.850737    0.872327  0.256361\n",
       "2018-01-25   1.088694   2.379937    2.672825  0.427878\n",
       "2018-01-26   1.019723   3.200052    2.317558  0.575567\n",
       "2018-01-29   0.488865   1.506376    1.048688  0.330800"
      ]
     },
     "execution_count": 91,
     "metadata": {},
     "output_type": "execute_result"
    }
   ],
   "source": [
    "df_forecast = pd.DataFrame(z, index=idx, columns=['int_ftse','int_dax','int_nikkei','int_spx'])\n",
    "df_forecast.head(12)"
   ]
  },
  {
   "cell_type": "code",
   "execution_count": 92,
   "metadata": {},
   "outputs": [
    {
     "data": {
      "text/html": [
       "<div>\n",
       "<style scoped>\n",
       "    .dataframe tbody tr th:only-of-type {\n",
       "        vertical-align: middle;\n",
       "    }\n",
       "\n",
       "    .dataframe tbody tr th {\n",
       "        vertical-align: top;\n",
       "    }\n",
       "\n",
       "    .dataframe thead th {\n",
       "        text-align: right;\n",
       "    }\n",
       "</style>\n",
       "<table border=\"1\" class=\"dataframe\">\n",
       "  <thead>\n",
       "    <tr style=\"text-align: right;\">\n",
       "      <th></th>\n",
       "      <th>int_ftse</th>\n",
       "      <th>int_dax</th>\n",
       "      <th>int_nikkei</th>\n",
       "      <th>int_spx</th>\n",
       "    </tr>\n",
       "    <tr>\n",
       "      <th>date</th>\n",
       "      <th></th>\n",
       "      <th></th>\n",
       "      <th></th>\n",
       "      <th></th>\n",
       "    </tr>\n",
       "  </thead>\n",
       "  <tbody>\n",
       "    <tr>\n",
       "      <th>2018-01-12</th>\n",
       "      <td>16.0</td>\n",
       "      <td>43.0</td>\n",
       "      <td>-57.0</td>\n",
       "      <td>19.0</td>\n",
       "    </tr>\n",
       "    <tr>\n",
       "      <th>2018-01-15</th>\n",
       "      <td>-9.0</td>\n",
       "      <td>-45.0</td>\n",
       "      <td>61.0</td>\n",
       "      <td>0.0</td>\n",
       "    </tr>\n",
       "    <tr>\n",
       "      <th>2018-01-16</th>\n",
       "      <td>-14.0</td>\n",
       "      <td>46.0</td>\n",
       "      <td>237.0</td>\n",
       "      <td>-10.0</td>\n",
       "    </tr>\n",
       "    <tr>\n",
       "      <th>2018-01-17</th>\n",
       "      <td>-30.0</td>\n",
       "      <td>-63.0</td>\n",
       "      <td>-83.0</td>\n",
       "      <td>26.0</td>\n",
       "    </tr>\n",
       "  </tbody>\n",
       "</table>\n",
       "</div>"
      ],
      "text/plain": [
       "            int_ftse  int_dax  int_nikkei  int_spx\n",
       "date                                              \n",
       "2018-01-12      16.0     43.0       -57.0     19.0\n",
       "2018-01-15      -9.0    -45.0        61.0      0.0\n",
       "2018-01-16     -14.0     46.0       237.0    -10.0\n",
       "2018-01-17     -30.0    -63.0       -83.0     26.0"
      ]
     },
     "execution_count": 92,
     "metadata": {},
     "output_type": "execute_result"
    }
   ],
   "source": [
    "test_1.head(4)"
   ]
  },
  {
   "cell_type": "code",
   "execution_count": 93,
   "metadata": {},
   "outputs": [
    {
     "data": {
      "text/plain": [
       "((12, 4), (12, 4))"
      ]
     },
     "execution_count": 93,
     "metadata": {},
     "output_type": "execute_result"
    }
   ],
   "source": [
    "df_forecast.shape,test_1.shape"
   ]
  },
  {
   "cell_type": "code",
   "execution_count": 110,
   "metadata": {},
   "outputs": [
    {
     "data": {
      "text/plain": [
       "<AxesSubplot:xlabel='date'>"
      ]
     },
     "execution_count": 110,
     "metadata": {},
     "output_type": "execute_result"
    },
    {
     "data": {
      "image/png": "[encoded data removed]",
      "text/plain": [
       "<Figure size 1008x432 with 1 Axes>"
      ]
     },
     "metadata": {
      "needs_background": "light"
     },
     "output_type": "display_data"
    }
   ],
   "source": [
    "test_1.int_spx.plot(legend=True,figsize =(14,6))\n",
    "df_forecast.int_spx.rename('Predicted_Int_SPX MODEL').plot(legend=True)\n"
   ]
  },
  {
   "cell_type": "code",
   "execution_count": 111,
   "metadata": {},
   "outputs": [
    {
     "name": "stdout",
     "output_type": "stream",
     "text": [
      "17.409974802445518\n"
     ]
    }
   ],
   "source": [
    "print(np.sqrt(mean_squared_error(test_1.int_spx,df_forecast.int_spx )))"
   ]
  },
  {
   "cell_type": "markdown",
   "metadata": {},
   "source": [
    "# The vector Auto Regression has an rms of 17.409"
   ]
  },
  {
   "cell_type": "markdown",
   "metadata": {},
   "source": [
    " # Next is to simulate using Vector AutoRegression Moving Average"
   ]
  },
  {
   "cell_type": "code",
   "execution_count": 96,
   "metadata": {},
   "outputs": [],
   "source": [
    "from statsmodels.tsa.statespace.varmax import VARMAX, VARMAXResults\n",
    "\n",
    "# train_1, test_1"
   ]
  },
  {
   "cell_type": "code",
   "execution_count": 97,
   "metadata": {},
   "outputs": [
    {
     "data": {
      "text/plain": [
       "ARIMA(maxiter=1000, order=(1, 0, 2), scoring_args={}, suppress_warnings=True)"
      ]
     },
     "execution_count": 97,
     "metadata": {},
     "output_type": "execute_result"
    }
   ],
   "source": [
    "auto_arima(data_1['int_spx'],maxiter=1000)"
   ]
  },
  {
   "cell_type": "code",
   "execution_count": 98,
   "metadata": {},
   "outputs": [
    {
     "data": {
      "text/plain": [
       "ARIMA(maxiter=1000, order=(0, 0, 1), scoring_args={}, suppress_warnings=True,\n",
       "      with_intercept=False)"
      ]
     },
     "execution_count": 98,
     "metadata": {},
     "output_type": "execute_result"
    }
   ],
   "source": [
    "auto_arima(data_1['int_nikkei'],maxiter=1000)"
   ]
  },
  {
   "cell_type": "code",
   "execution_count": 99,
   "metadata": {},
   "outputs": [
    {
     "data": {
      "text/plain": [
       "ARIMA(maxiter=1000, order=(0, 0, 1), scoring_args={}, suppress_warnings=True)"
      ]
     },
     "execution_count": 99,
     "metadata": {},
     "output_type": "execute_result"
    }
   ],
   "source": [
    "auto_arima(data_1['int_dax'],maxiter=1000)"
   ]
  },
  {
   "cell_type": "code",
   "execution_count": 100,
   "metadata": {},
   "outputs": [
    {
     "data": {
      "text/plain": [
       "ARIMA(maxiter=1000, order=(1, 0, 2), scoring_args={}, suppress_warnings=True,\n",
       "      with_intercept=False)"
      ]
     },
     "execution_count": 100,
     "metadata": {},
     "output_type": "execute_result"
    }
   ],
   "source": [
    "auto_arima(data_1['int_ftse'],maxiter=1000)"
   ]
  },
  {
   "cell_type": "code",
   "execution_count": 101,
   "metadata": {},
   "outputs": [],
   "source": [
    "# The concern with this approach is on how to select appropriate lag time for the entire series that will not over fit.\n",
    "\n",
    "# you might want to model the suspected feature with the lag time and see its statistics ie using summary"
   ]
  },
  {
   "cell_type": "code",
   "execution_count": 102,
   "metadata": {},
   "outputs": [
    {
     "name": "stderr",
     "output_type": "stream",
     "text": [
      "C:\\Users\\Henry\\anaconda3\\lib\\site-packages\\statsmodels\\tsa\\statespace\\varmax.py:161: EstimationWarning: Estimation of VARMA(p,q) models is not generically robust, due especially to identification issues.\n",
      "  warn('Estimation of VARMA(p,q) models is not generically robust,'\n",
      "C:\\Users\\Henry\\anaconda3\\lib\\site-packages\\statsmodels\\base\\model.py:566: ConvergenceWarning: Maximum Likelihood optimization failed to converge. Check mle_retvals\n",
      "  warnings.warn(\"Maximum Likelihood optimization failed to \"\n"
     ]
    },
    {
     "data": {
      "text/html": [
       "<table class=\"simpletable\">\n",
       "<caption>Statespace Model Results</caption>\n",
       "<tr>\n",
       "  <th>Dep. Variable:</th>   <td>['int_ftse', 'int_dax', 'int_nikkei', 'int_spx']</td> <th>  No. Observations:  </th>    <td>6264</td>    \n",
       "</tr>\n",
       "<tr>\n",
       "  <th>Model:</th>                              <td>VARMA(1,2)</td>                    <th>  Log Likelihood     </th> <td>-141621.545</td>\n",
       "</tr>\n",
       "<tr>\n",
       "  <th></th>                                    <td>+ intercept</td>                   <th>  AIC                </th> <td>283367.090</td> \n",
       "</tr>\n",
       "<tr>\n",
       "  <th>Date:</th>                            <td>Tue, 02 Mar 2021</td>                 <th>  BIC                </th> <td>283785.130</td> \n",
       "</tr>\n",
       "<tr>\n",
       "  <th>Time:</th>                                <td>01:16:17</td>                     <th>  HQIC               </th> <td>283511.947</td> \n",
       "</tr>\n",
       "<tr>\n",
       "  <th>Sample:</th>                             <td>01-10-1994</td>                    <th>                     </th>      <td> </td>     \n",
       "</tr>\n",
       "<tr>\n",
       "  <th></th>                                   <td>- 01-11-2018</td>                   <th>                     </th>      <td> </td>     \n",
       "</tr>\n",
       "<tr>\n",
       "  <th>Covariance Type:</th>                        <td>opg</td>                       <th>                     </th>      <td> </td>     \n",
       "</tr>\n",
       "</table>\n",
       "<table class=\"simpletable\">\n",
       "<tr>\n",
       "  <th>Ljung-Box (L1) (Q):</th>     <td>0.14, 0.10, 0.02, 0.01</td> <th>  Jarque-Bera (JB):  </th> <td>7381718.46, 24003288.53, 2800300.51, 348835.13</td>\n",
       "</tr>\n",
       "<tr>\n",
       "  <th>Prob(Q):</th>                <td>0.71, 0.75, 0.88, 0.90</td> <th>  Prob(JB):          </th>             <td>0.00, 0.00, 0.00, 0.00</td>            \n",
       "</tr>\n",
       "<tr>\n",
       "  <th>Heteroskedasticity (H):</th> <td>3.00, 3.10, 1.09, 1.66</td> <th>  Skew:              </th>            <td>-5.29, -9.05, 2.55, -1.57</td>          \n",
       "</tr>\n",
       "<tr>\n",
       "  <th>Prob(H) (two-sided):</th>    <td>0.00, 0.00, 0.04, 0.00</td> <th>  Kurtosis:          </th>          <td>170.84, 305.72, 106.46, 39.42</td>        \n",
       "</tr>\n",
       "</table>\n",
       "<table class=\"simpletable\">\n",
       "<caption>Results for equation int_ftse</caption>\n",
       "<tr>\n",
       "          <td></td>            <th>coef</th>     <th>std err</th>      <th>z</th>      <th>P>|z|</th>  <th>[0.025</th>    <th>0.975]</th>  \n",
       "</tr>\n",
       "<tr>\n",
       "  <th>intercept</th>        <td>    0.8559</td> <td>    1.227</td> <td>    0.698</td> <td> 0.485</td> <td>   -1.548</td> <td>    3.260</td>\n",
       "</tr>\n",
       "<tr>\n",
       "  <th>L1.int_ftse</th>      <td>    0.2370</td> <td>    0.414</td> <td>    0.573</td> <td> 0.567</td> <td>   -0.574</td> <td>    1.048</td>\n",
       "</tr>\n",
       "<tr>\n",
       "  <th>L1.int_dax</th>       <td>   -0.3288</td> <td>    0.794</td> <td>   -0.414</td> <td> 0.679</td> <td>   -1.885</td> <td>    1.227</td>\n",
       "</tr>\n",
       "<tr>\n",
       "  <th>L1.int_nikkei</th>    <td>    0.0357</td> <td>    0.175</td> <td>    0.204</td> <td> 0.838</td> <td>   -0.307</td> <td>    0.379</td>\n",
       "</tr>\n",
       "<tr>\n",
       "  <th>L1.int_spx</th>       <td>    0.5692</td> <td>    3.240</td> <td>    0.176</td> <td> 0.861</td> <td>   -5.781</td> <td>    6.920</td>\n",
       "</tr>\n",
       "<tr>\n",
       "  <th>L1.e(int_ftse)</th>   <td>   -0.1995</td> <td>    0.414</td> <td>   -0.482</td> <td> 0.630</td> <td>   -1.011</td> <td>    0.612</td>\n",
       "</tr>\n",
       "<tr>\n",
       "  <th>L1.e(int_dax)</th>    <td>    0.0870</td> <td>    0.795</td> <td>    0.110</td> <td> 0.913</td> <td>   -1.471</td> <td>    1.645</td>\n",
       "</tr>\n",
       "<tr>\n",
       "  <th>L1.e(int_nikkei)</th> <td>   -0.0572</td> <td>    0.175</td> <td>   -0.326</td> <td> 0.744</td> <td>   -0.400</td> <td>    0.286</td>\n",
       "</tr>\n",
       "<tr>\n",
       "  <th>L1.e(int_spx)</th>    <td>   -0.0966</td> <td>    3.239</td> <td>   -0.030</td> <td> 0.976</td> <td>   -6.446</td> <td>    6.253</td>\n",
       "</tr>\n",
       "<tr>\n",
       "  <th>L2.e(int_ftse)</th>   <td>    0.0005</td> <td>    0.299</td> <td>    0.002</td> <td> 0.999</td> <td>   -0.585</td> <td>    0.586</td>\n",
       "</tr>\n",
       "<tr>\n",
       "  <th>L2.e(int_dax)</th>    <td>   -0.0834</td> <td>    0.312</td> <td>   -0.268</td> <td> 0.789</td> <td>   -0.695</td> <td>    0.528</td>\n",
       "</tr>\n",
       "<tr>\n",
       "  <th>L2.e(int_nikkei)</th> <td>    0.0223</td> <td>    0.057</td> <td>    0.390</td> <td> 0.697</td> <td>   -0.090</td> <td>    0.134</td>\n",
       "</tr>\n",
       "<tr>\n",
       "  <th>L2.e(int_spx)</th>    <td>   -0.1099</td> <td>    1.312</td> <td>   -0.084</td> <td> 0.933</td> <td>   -2.681</td> <td>    2.461</td>\n",
       "</tr>\n",
       "</table>\n",
       "<table class=\"simpletable\">\n",
       "<caption>Results for equation int_dax</caption>\n",
       "<tr>\n",
       "          <td></td>            <th>coef</th>     <th>std err</th>      <th>z</th>      <th>P>|z|</th>  <th>[0.025</th>    <th>0.975]</th>  \n",
       "</tr>\n",
       "<tr>\n",
       "  <th>intercept</th>        <td>    2.4160</td> <td>    3.187</td> <td>    0.758</td> <td> 0.448</td> <td>   -3.830</td> <td>    8.663</td>\n",
       "</tr>\n",
       "<tr>\n",
       "  <th>L1.int_ftse</th>      <td>    0.1579</td> <td>    1.035</td> <td>    0.153</td> <td> 0.879</td> <td>   -1.871</td> <td>    2.186</td>\n",
       "</tr>\n",
       "<tr>\n",
       "  <th>L1.int_dax</th>       <td>   -0.4001</td> <td>    2.139</td> <td>   -0.187</td> <td> 0.852</td> <td>   -4.592</td> <td>    3.791</td>\n",
       "</tr>\n",
       "<tr>\n",
       "  <th>L1.int_nikkei</th>    <td>   -0.0531</td> <td>    0.348</td> <td>   -0.152</td> <td> 0.879</td> <td>   -0.736</td> <td>    0.630</td>\n",
       "</tr>\n",
       "<tr>\n",
       "  <th>L1.int_spx</th>       <td>    0.0481</td> <td>    8.089</td> <td>    0.006</td> <td> 0.995</td> <td>  -15.806</td> <td>   15.902</td>\n",
       "</tr>\n",
       "<tr>\n",
       "  <th>L1.e(int_ftse)</th>   <td>    0.3246</td> <td>    1.028</td> <td>    0.316</td> <td> 0.752</td> <td>   -1.691</td> <td>    2.340</td>\n",
       "</tr>\n",
       "<tr>\n",
       "  <th>L1.e(int_dax)</th>    <td>   -0.1774</td> <td>    2.144</td> <td>   -0.083</td> <td> 0.934</td> <td>   -4.379</td> <td>    4.025</td>\n",
       "</tr>\n",
       "<tr>\n",
       "  <th>L1.e(int_nikkei)</th> <td>    0.0523</td> <td>    0.348</td> <td>    0.151</td> <td> 0.880</td> <td>   -0.629</td> <td>    0.734</td>\n",
       "</tr>\n",
       "<tr>\n",
       "  <th>L1.e(int_spx)</th>    <td>   -0.9431</td> <td>    8.094</td> <td>   -0.117</td> <td> 0.907</td> <td>  -16.807</td> <td>   14.920</td>\n",
       "</tr>\n",
       "<tr>\n",
       "  <th>L2.e(int_ftse)</th>   <td>    0.2436</td> <td>    0.717</td> <td>    0.340</td> <td> 0.734</td> <td>   -1.162</td> <td>    1.649</td>\n",
       "</tr>\n",
       "<tr>\n",
       "  <th>L2.e(int_dax)</th>    <td>   -0.1714</td> <td>    0.845</td> <td>   -0.203</td> <td> 0.839</td> <td>   -1.827</td> <td>    1.484</td>\n",
       "</tr>\n",
       "<tr>\n",
       "  <th>L2.e(int_nikkei)</th> <td>   -0.0114</td> <td>    0.118</td> <td>   -0.097</td> <td> 0.923</td> <td>   -0.242</td> <td>    0.219</td>\n",
       "</tr>\n",
       "<tr>\n",
       "  <th>L2.e(int_spx)</th>    <td>   -0.7449</td> <td>    3.391</td> <td>   -0.220</td> <td> 0.826</td> <td>   -7.392</td> <td>    5.902</td>\n",
       "</tr>\n",
       "</table>\n",
       "<table class=\"simpletable\">\n",
       "<caption>Results for equation int_nikkei</caption>\n",
       "<tr>\n",
       "          <td></td>            <th>coef</th>     <th>std err</th>      <th>z</th>      <th>P>|z|</th>  <th>[0.025</th>    <th>0.975]</th>  \n",
       "</tr>\n",
       "<tr>\n",
       "  <th>intercept</th>        <td>    1.0747</td> <td>    5.222</td> <td>    0.206</td> <td> 0.837</td> <td>   -9.161</td> <td>   11.310</td>\n",
       "</tr>\n",
       "<tr>\n",
       "  <th>L1.int_ftse</th>      <td>    0.8367</td> <td>    1.524</td> <td>    0.549</td> <td> 0.583</td> <td>   -2.150</td> <td>    3.823</td>\n",
       "</tr>\n",
       "<tr>\n",
       "  <th>L1.int_dax</th>       <td>   -0.1501</td> <td>    2.640</td> <td>   -0.057</td> <td> 0.955</td> <td>   -5.324</td> <td>    5.023</td>\n",
       "</tr>\n",
       "<tr>\n",
       "  <th>L1.int_nikkei</th>    <td>   -0.3851</td> <td>    0.558</td> <td>   -0.690</td> <td> 0.490</td> <td>   -1.479</td> <td>    0.709</td>\n",
       "</tr>\n",
       "<tr>\n",
       "  <th>L1.int_spx</th>       <td>   -0.3927</td> <td>    9.807</td> <td>   -0.040</td> <td> 0.968</td> <td>  -19.614</td> <td>   18.828</td>\n",
       "</tr>\n",
       "<tr>\n",
       "  <th>L1.e(int_ftse)</th>   <td>    0.3931</td> <td>    1.521</td> <td>    0.258</td> <td> 0.796</td> <td>   -2.588</td> <td>    3.374</td>\n",
       "</tr>\n",
       "<tr>\n",
       "  <th>L1.e(int_dax)</th>    <td>   -0.1122</td> <td>    2.646</td> <td>   -0.042</td> <td> 0.966</td> <td>   -5.298</td> <td>    5.074</td>\n",
       "</tr>\n",
       "<tr>\n",
       "  <th>L1.e(int_nikkei)</th> <td>    0.0335</td> <td>    0.557</td> <td>    0.060</td> <td> 0.952</td> <td>   -1.058</td> <td>    1.125</td>\n",
       "</tr>\n",
       "<tr>\n",
       "  <th>L1.e(int_spx)</th>    <td>   -0.8359</td> <td>    9.839</td> <td>   -0.085</td> <td> 0.932</td> <td>  -20.120</td> <td>   18.449</td>\n",
       "</tr>\n",
       "<tr>\n",
       "  <th>L2.e(int_ftse)</th>   <td>    0.3422</td> <td>    1.026</td> <td>    0.333</td> <td> 0.739</td> <td>   -1.669</td> <td>    2.353</td>\n",
       "</tr>\n",
       "<tr>\n",
       "  <th>L2.e(int_dax)</th>    <td>    0.0849</td> <td>    1.088</td> <td>    0.078</td> <td> 0.938</td> <td>   -2.048</td> <td>    2.218</td>\n",
       "</tr>\n",
       "<tr>\n",
       "  <th>L2.e(int_nikkei)</th> <td>   -0.1180</td> <td>    0.187</td> <td>   -0.630</td> <td> 0.529</td> <td>   -0.485</td> <td>    0.249</td>\n",
       "</tr>\n",
       "<tr>\n",
       "  <th>L2.e(int_spx)</th>    <td>   -1.2318</td> <td>    4.420</td> <td>   -0.279</td> <td> 0.780</td> <td>   -9.896</td> <td>    7.432</td>\n",
       "</tr>\n",
       "</table>\n",
       "<table class=\"simpletable\">\n",
       "<caption>Results for equation int_spx</caption>\n",
       "<tr>\n",
       "          <td></td>            <th>coef</th>     <th>std err</th>      <th>z</th>      <th>P>|z|</th>  <th>[0.025</th>    <th>0.975]</th>  \n",
       "</tr>\n",
       "<tr>\n",
       "  <th>intercept</th>        <td>    0.4931</td> <td>    0.524</td> <td>    0.941</td> <td> 0.347</td> <td>   -0.535</td> <td>    1.521</td>\n",
       "</tr>\n",
       "<tr>\n",
       "  <th>L1.int_ftse</th>      <td>   -0.0422</td> <td>    0.187</td> <td>   -0.225</td> <td> 0.822</td> <td>   -0.409</td> <td>    0.325</td>\n",
       "</tr>\n",
       "<tr>\n",
       "  <th>L1.int_dax</th>       <td>    0.0104</td> <td>    0.373</td> <td>    0.028</td> <td> 0.978</td> <td>   -0.721</td> <td>    0.742</td>\n",
       "</tr>\n",
       "<tr>\n",
       "  <th>L1.int_nikkei</th>    <td>   -0.0157</td> <td>    0.064</td> <td>   -0.247</td> <td> 0.805</td> <td>   -0.140</td> <td>    0.109</td>\n",
       "</tr>\n",
       "<tr>\n",
       "  <th>L1.int_spx</th>       <td>   -0.2985</td> <td>    1.306</td> <td>   -0.229</td> <td> 0.819</td> <td>   -2.858</td> <td>    2.261</td>\n",
       "</tr>\n",
       "<tr>\n",
       "  <th>L1.e(int_ftse)</th>   <td>    0.1335</td> <td>    0.186</td> <td>    0.720</td> <td> 0.472</td> <td>   -0.230</td> <td>    0.497</td>\n",
       "</tr>\n",
       "<tr>\n",
       "  <th>L1.e(int_dax)</th>    <td>   -0.0567</td> <td>    0.375</td> <td>   -0.152</td> <td> 0.880</td> <td>   -0.791</td> <td>    0.677</td>\n",
       "</tr>\n",
       "<tr>\n",
       "  <th>L1.e(int_nikkei)</th> <td>    0.0149</td> <td>    0.063</td> <td>    0.236</td> <td> 0.814</td> <td>   -0.109</td> <td>    0.139</td>\n",
       "</tr>\n",
       "<tr>\n",
       "  <th>L1.e(int_spx)</th>    <td>   -0.2637</td> <td>    1.308</td> <td>   -0.202</td> <td> 0.840</td> <td>   -2.827</td> <td>    2.300</td>\n",
       "</tr>\n",
       "<tr>\n",
       "  <th>L2.e(int_ftse)</th>   <td>    0.0413</td> <td>    0.133</td> <td>    0.310</td> <td> 0.756</td> <td>   -0.220</td> <td>    0.302</td>\n",
       "</tr>\n",
       "<tr>\n",
       "  <th>L2.e(int_dax)</th>    <td>   -0.0153</td> <td>    0.151</td> <td>   -0.101</td> <td> 0.920</td> <td>   -0.312</td> <td>    0.281</td>\n",
       "</tr>\n",
       "<tr>\n",
       "  <th>L2.e(int_nikkei)</th> <td>   -0.0061</td> <td>    0.021</td> <td>   -0.286</td> <td> 0.775</td> <td>   -0.048</td> <td>    0.036</td>\n",
       "</tr>\n",
       "<tr>\n",
       "  <th>L2.e(int_spx)</th>    <td>   -0.2176</td> <td>    0.572</td> <td>   -0.380</td> <td> 0.704</td> <td>   -1.340</td> <td>    0.904</td>\n",
       "</tr>\n",
       "</table>\n",
       "<table class=\"simpletable\">\n",
       "<caption>Error covariance matrix</caption>\n",
       "<tr>\n",
       "                <td></td>                  <th>coef</th>     <th>std err</th>      <th>z</th>      <th>P>|z|</th>  <th>[0.025</th>    <th>0.975]</th>  \n",
       "</tr>\n",
       "<tr>\n",
       "  <th>sqrt.var.int_ftse</th>            <td>   78.3962</td> <td>    0.316</td> <td>  247.974</td> <td> 0.000</td> <td>   77.777</td> <td>   79.016</td>\n",
       "</tr>\n",
       "<tr>\n",
       "  <th>sqrt.cov.int_ftse.int_dax</th>    <td>  149.7372</td> <td>    0.768</td> <td>  194.942</td> <td> 0.000</td> <td>  148.232</td> <td>  151.243</td>\n",
       "</tr>\n",
       "<tr>\n",
       "  <th>sqrt.var.int_dax</th>             <td>   98.1548</td> <td>    0.287</td> <td>  342.475</td> <td> 0.000</td> <td>   97.593</td> <td>   98.717</td>\n",
       "</tr>\n",
       "<tr>\n",
       "  <th>sqrt.cov.int_ftse.int_nikkei</th> <td>  144.1289</td> <td>    1.750</td> <td>   82.364</td> <td> 0.000</td> <td>  140.699</td> <td>  147.559</td>\n",
       "</tr>\n",
       "<tr>\n",
       "  <th>sqrt.cov.int_dax.int_nikkei</th>  <td>   70.2697</td> <td>    1.890</td> <td>   37.180</td> <td> 0.000</td> <td>   66.565</td> <td>   73.974</td>\n",
       "</tr>\n",
       "<tr>\n",
       "  <th>sqrt.var.int_nikkei</th>          <td>  236.6991</td> <td>    0.728</td> <td>  324.989</td> <td> 0.000</td> <td>  235.272</td> <td>  238.127</td>\n",
       "</tr>\n",
       "<tr>\n",
       "  <th>sqrt.cov.int_ftse.int_spx</th>    <td>   24.2597</td> <td>    0.122</td> <td>  199.202</td> <td> 0.000</td> <td>   24.021</td> <td>   24.498</td>\n",
       "</tr>\n",
       "<tr>\n",
       "  <th>sqrt.cov.int_dax.int_spx</th>     <td>   15.3019</td> <td>    0.128</td> <td>  119.590</td> <td> 0.000</td> <td>   15.051</td> <td>   15.553</td>\n",
       "</tr>\n",
       "<tr>\n",
       "  <th>sqrt.cov.int_nikkei.int_spx</th>  <td>    3.7620</td> <td>    0.110</td> <td>   34.268</td> <td> 0.000</td> <td>    3.547</td> <td>    3.977</td>\n",
       "</tr>\n",
       "<tr>\n",
       "  <th>sqrt.var.int_spx</th>             <td>   13.1457</td> <td>    0.069</td> <td>  190.147</td> <td> 0.000</td> <td>   13.010</td> <td>   13.281</td>\n",
       "</tr>\n",
       "</table><br/><br/>Warnings:<br/>[1] Covariance matrix calculated using the outer product of gradients (complex-step)."
      ],
      "text/plain": [
       "<class 'statsmodels.iolib.summary.Summary'>\n",
       "\"\"\"\n",
       "                                          Statespace Model Results                                          \n",
       "============================================================================================================\n",
       "Dep. Variable:     ['int_ftse', 'int_dax', 'int_nikkei', 'int_spx']   No. Observations:                 6264\n",
       "Model:                                                   VARMA(1,2)   Log Likelihood             -141621.545\n",
       "                                                        + intercept   AIC                         283367.090\n",
       "Date:                                              Tue, 02 Mar 2021   BIC                         283785.130\n",
       "Time:                                                      01:16:17   HQIC                        283511.947\n",
       "Sample:                                                  01-10-1994                                         \n",
       "                                                       - 01-11-2018                                         \n",
       "Covariance Type:                                                opg                                         \n",
       "===================================================================================================================\n",
       "Ljung-Box (L1) (Q):     0.14, 0.10, 0.02, 0.01   Jarque-Bera (JB):   7381718.46, 24003288.53, 2800300.51, 348835.13\n",
       "Prob(Q):                0.71, 0.75, 0.88, 0.90   Prob(JB):                                   0.00, 0.00, 0.00, 0.00\n",
       "Heteroskedasticity (H): 3.00, 3.10, 1.09, 1.66   Skew:                                    -5.29, -9.05, 2.55, -1.57\n",
       "Prob(H) (two-sided):    0.00, 0.00, 0.04, 0.00   Kurtosis:                            170.84, 305.72, 106.46, 39.42\n",
       "                           Results for equation int_ftse                            \n",
       "====================================================================================\n",
       "                       coef    std err          z      P>|z|      [0.025      0.975]\n",
       "------------------------------------------------------------------------------------\n",
       "intercept            0.8559      1.227      0.698      0.485      -1.548       3.260\n",
       "L1.int_ftse          0.2370      0.414      0.573      0.567      -0.574       1.048\n",
       "L1.int_dax          -0.3288      0.794     -0.414      0.679      -1.885       1.227\n",
       "L1.int_nikkei        0.0357      0.175      0.204      0.838      -0.307       0.379\n",
       "L1.int_spx           0.5692      3.240      0.176      0.861      -5.781       6.920\n",
       "L1.e(int_ftse)      -0.1995      0.414     -0.482      0.630      -1.011       0.612\n",
       "L1.e(int_dax)        0.0870      0.795      0.110      0.913      -1.471       1.645\n",
       "L1.e(int_nikkei)    -0.0572      0.175     -0.326      0.744      -0.400       0.286\n",
       "L1.e(int_spx)       -0.0966      3.239     -0.030      0.976      -6.446       6.253\n",
       "L2.e(int_ftse)       0.0005      0.299      0.002      0.999      -0.585       0.586\n",
       "L2.e(int_dax)       -0.0834      0.312     -0.268      0.789      -0.695       0.528\n",
       "L2.e(int_nikkei)     0.0223      0.057      0.390      0.697      -0.090       0.134\n",
       "L2.e(int_spx)       -0.1099      1.312     -0.084      0.933      -2.681       2.461\n",
       "                            Results for equation int_dax                            \n",
       "====================================================================================\n",
       "                       coef    std err          z      P>|z|      [0.025      0.975]\n",
       "------------------------------------------------------------------------------------\n",
       "intercept            2.4160      3.187      0.758      0.448      -3.830       8.663\n",
       "L1.int_ftse          0.1579      1.035      0.153      0.879      -1.871       2.186\n",
       "L1.int_dax          -0.4001      2.139     -0.187      0.852      -4.592       3.791\n",
       "L1.int_nikkei       -0.0531      0.348     -0.152      0.879      -0.736       0.630\n",
       "L1.int_spx           0.0481      8.089      0.006      0.995     -15.806      15.902\n",
       "L1.e(int_ftse)       0.3246      1.028      0.316      0.752      -1.691       2.340\n",
       "L1.e(int_dax)       -0.1774      2.144     -0.083      0.934      -4.379       4.025\n",
       "L1.e(int_nikkei)     0.0523      0.348      0.151      0.880      -0.629       0.734\n",
       "L1.e(int_spx)       -0.9431      8.094     -0.117      0.907     -16.807      14.920\n",
       "L2.e(int_ftse)       0.2436      0.717      0.340      0.734      -1.162       1.649\n",
       "L2.e(int_dax)       -0.1714      0.845     -0.203      0.839      -1.827       1.484\n",
       "L2.e(int_nikkei)    -0.0114      0.118     -0.097      0.923      -0.242       0.219\n",
       "L2.e(int_spx)       -0.7449      3.391     -0.220      0.826      -7.392       5.902\n",
       "                          Results for equation int_nikkei                           \n",
       "====================================================================================\n",
       "                       coef    std err          z      P>|z|      [0.025      0.975]\n",
       "------------------------------------------------------------------------------------\n",
       "intercept            1.0747      5.222      0.206      0.837      -9.161      11.310\n",
       "L1.int_ftse          0.8367      1.524      0.549      0.583      -2.150       3.823\n",
       "L1.int_dax          -0.1501      2.640     -0.057      0.955      -5.324       5.023\n",
       "L1.int_nikkei       -0.3851      0.558     -0.690      0.490      -1.479       0.709\n",
       "L1.int_spx          -0.3927      9.807     -0.040      0.968     -19.614      18.828\n",
       "L1.e(int_ftse)       0.3931      1.521      0.258      0.796      -2.588       3.374\n",
       "L1.e(int_dax)       -0.1122      2.646     -0.042      0.966      -5.298       5.074\n",
       "L1.e(int_nikkei)     0.0335      0.557      0.060      0.952      -1.058       1.125\n",
       "L1.e(int_spx)       -0.8359      9.839     -0.085      0.932     -20.120      18.449\n",
       "L2.e(int_ftse)       0.3422      1.026      0.333      0.739      -1.669       2.353\n",
       "L2.e(int_dax)        0.0849      1.088      0.078      0.938      -2.048       2.218\n",
       "L2.e(int_nikkei)    -0.1180      0.187     -0.630      0.529      -0.485       0.249\n",
       "L2.e(int_spx)       -1.2318      4.420     -0.279      0.780      -9.896       7.432\n",
       "                            Results for equation int_spx                            \n",
       "====================================================================================\n",
       "                       coef    std err          z      P>|z|      [0.025      0.975]\n",
       "------------------------------------------------------------------------------------\n",
       "intercept            0.4931      0.524      0.941      0.347      -0.535       1.521\n",
       "L1.int_ftse         -0.0422      0.187     -0.225      0.822      -0.409       0.325\n",
       "L1.int_dax           0.0104      0.373      0.028      0.978      -0.721       0.742\n",
       "L1.int_nikkei       -0.0157      0.064     -0.247      0.805      -0.140       0.109\n",
       "L1.int_spx          -0.2985      1.306     -0.229      0.819      -2.858       2.261\n",
       "L1.e(int_ftse)       0.1335      0.186      0.720      0.472      -0.230       0.497\n",
       "L1.e(int_dax)       -0.0567      0.375     -0.152      0.880      -0.791       0.677\n",
       "L1.e(int_nikkei)     0.0149      0.063      0.236      0.814      -0.109       0.139\n",
       "L1.e(int_spx)       -0.2637      1.308     -0.202      0.840      -2.827       2.300\n",
       "L2.e(int_ftse)       0.0413      0.133      0.310      0.756      -0.220       0.302\n",
       "L2.e(int_dax)       -0.0153      0.151     -0.101      0.920      -0.312       0.281\n",
       "L2.e(int_nikkei)    -0.0061      0.021     -0.286      0.775      -0.048       0.036\n",
       "L2.e(int_spx)       -0.2176      0.572     -0.380      0.704      -1.340       0.904\n",
       "                                    Error covariance matrix                                     \n",
       "================================================================================================\n",
       "                                   coef    std err          z      P>|z|      [0.025      0.975]\n",
       "------------------------------------------------------------------------------------------------\n",
       "sqrt.var.int_ftse               78.3962      0.316    247.974      0.000      77.777      79.016\n",
       "sqrt.cov.int_ftse.int_dax      149.7372      0.768    194.942      0.000     148.232     151.243\n",
       "sqrt.var.int_dax                98.1548      0.287    342.475      0.000      97.593      98.717\n",
       "sqrt.cov.int_ftse.int_nikkei   144.1289      1.750     82.364      0.000     140.699     147.559\n",
       "sqrt.cov.int_dax.int_nikkei     70.2697      1.890     37.180      0.000      66.565      73.974\n",
       "sqrt.var.int_nikkei            236.6991      0.728    324.989      0.000     235.272     238.127\n",
       "sqrt.cov.int_ftse.int_spx       24.2597      0.122    199.202      0.000      24.021      24.498\n",
       "sqrt.cov.int_dax.int_spx        15.3019      0.128    119.590      0.000      15.051      15.553\n",
       "sqrt.cov.int_nikkei.int_spx      3.7620      0.110     34.268      0.000       3.547       3.977\n",
       "sqrt.var.int_spx                13.1457      0.069    190.147      0.000      13.010      13.281\n",
       "================================================================================================\n",
       "\n",
       "Warnings:\n",
       "[1] Covariance matrix calculated using the outer product of gradients (complex-step).\n",
       "\"\"\""
      ]
     },
     "execution_count": 102,
     "metadata": {},
     "output_type": "execute_result"
    }
   ],
   "source": [
    "model = VARMAX(train_1, order=(1,2), trend='c')\n",
    "results = model.fit(maxiter=1000, disp=False)\n",
    "results.summary()"
   ]
  },
  {
   "cell_type": "code",
   "execution_count": 103,
   "metadata": {},
   "outputs": [
    {
     "data": {
      "text/html": [
       "<div>\n",
       "<style scoped>\n",
       "    .dataframe tbody tr th:only-of-type {\n",
       "        vertical-align: middle;\n",
       "    }\n",
       "\n",
       "    .dataframe tbody tr th {\n",
       "        vertical-align: top;\n",
       "    }\n",
       "\n",
       "    .dataframe thead th {\n",
       "        text-align: right;\n",
       "    }\n",
       "</style>\n",
       "<table border=\"1\" class=\"dataframe\">\n",
       "  <thead>\n",
       "    <tr style=\"text-align: right;\">\n",
       "      <th></th>\n",
       "      <th>int_ftse</th>\n",
       "      <th>int_dax</th>\n",
       "      <th>int_nikkei</th>\n",
       "      <th>int_spx</th>\n",
       "    </tr>\n",
       "  </thead>\n",
       "  <tbody>\n",
       "    <tr>\n",
       "      <th>2018-01-12</th>\n",
       "      <td>13.146032</td>\n",
       "      <td>-64.715705</td>\n",
       "      <td>-38.987056</td>\n",
       "      <td>-31.535630</td>\n",
       "    </tr>\n",
       "    <tr>\n",
       "      <th>2018-01-15</th>\n",
       "      <td>-3.934224</td>\n",
       "      <td>-9.610716</td>\n",
       "      <td>-3.004955</td>\n",
       "      <td>-1.993854</td>\n",
       "    </tr>\n",
       "    <tr>\n",
       "      <th>2018-01-16</th>\n",
       "      <td>1.841558</td>\n",
       "      <td>5.703902</td>\n",
       "      <td>1.165893</td>\n",
       "      <td>1.201757</td>\n",
       "    </tr>\n",
       "    <tr>\n",
       "      <th>2018-01-17</th>\n",
       "      <td>0.142500</td>\n",
       "      <td>0.420422</td>\n",
       "      <td>0.838425</td>\n",
       "      <td>0.097627</td>\n",
       "    </tr>\n",
       "    <tr>\n",
       "      <th>2018-01-18</th>\n",
       "      <td>0.836979</td>\n",
       "      <td>2.230483</td>\n",
       "      <td>0.769608</td>\n",
       "      <td>0.449179</td>\n",
       "    </tr>\n",
       "    <tr>\n",
       "      <th>2018-01-19</th>\n",
       "      <td>0.604031</td>\n",
       "      <td>1.636442</td>\n",
       "      <td>0.967428</td>\n",
       "      <td>0.334813</td>\n",
       "    </tr>\n",
       "    <tr>\n",
       "      <th>2018-01-22</th>\n",
       "      <td>0.686121</td>\n",
       "      <td>1.821355</td>\n",
       "      <td>0.830413</td>\n",
       "      <td>0.369504</td>\n",
       "    </tr>\n",
       "    <tr>\n",
       "      <th>2018-01-23</th>\n",
       "      <td>0.659628</td>\n",
       "      <td>1.769267</td>\n",
       "      <td>0.910487</td>\n",
       "      <td>0.359758</td>\n",
       "    </tr>\n",
       "    <tr>\n",
       "      <th>2018-01-24</th>\n",
       "      <td>0.667787</td>\n",
       "      <td>1.781207</td>\n",
       "      <td>0.869127</td>\n",
       "      <td>0.361986</td>\n",
       "    </tr>\n",
       "    <tr>\n",
       "      <th>2018-01-25</th>\n",
       "      <td>0.665587</td>\n",
       "      <td>1.780020</td>\n",
       "      <td>0.889216</td>\n",
       "      <td>0.361751</td>\n",
       "    </tr>\n",
       "    <tr>\n",
       "      <th>2018-01-26</th>\n",
       "      <td>0.666039</td>\n",
       "      <td>1.779070</td>\n",
       "      <td>0.879908</td>\n",
       "      <td>0.361586</td>\n",
       "    </tr>\n",
       "    <tr>\n",
       "      <th>2018-01-29</th>\n",
       "      <td>0.666032</td>\n",
       "      <td>1.780008</td>\n",
       "      <td>0.884079</td>\n",
       "      <td>0.361752</td>\n",
       "    </tr>\n",
       "  </tbody>\n",
       "</table>\n",
       "</div>"
      ],
      "text/plain": [
       "             int_ftse    int_dax  int_nikkei    int_spx\n",
       "2018-01-12  13.146032 -64.715705  -38.987056 -31.535630\n",
       "2018-01-15  -3.934224  -9.610716   -3.004955  -1.993854\n",
       "2018-01-16   1.841558   5.703902    1.165893   1.201757\n",
       "2018-01-17   0.142500   0.420422    0.838425   0.097627\n",
       "2018-01-18   0.836979   2.230483    0.769608   0.449179\n",
       "2018-01-19   0.604031   1.636442    0.967428   0.334813\n",
       "2018-01-22   0.686121   1.821355    0.830413   0.369504\n",
       "2018-01-23   0.659628   1.769267    0.910487   0.359758\n",
       "2018-01-24   0.667787   1.781207    0.869127   0.361986\n",
       "2018-01-25   0.665587   1.780020    0.889216   0.361751\n",
       "2018-01-26   0.666039   1.779070    0.879908   0.361586\n",
       "2018-01-29   0.666032   1.780008    0.884079   0.361752"
      ]
     },
     "execution_count": 103,
     "metadata": {},
     "output_type": "execute_result"
    }
   ],
   "source": [
    "## Predict the next 12 values\n",
    "## Unlike the VAR model we used in the previous section, the VARMAX function won't require that we pass in a number of previous observations, and it will provide an extended DateTime index.\n",
    "\n",
    "df_forecast_2 = results.forecast(12)\n",
    "df_forecast_2"
   ]
  },
  {
   "cell_type": "code",
   "execution_count": 104,
   "metadata": {},
   "outputs": [
    {
     "data": {
      "text/plain": [
       "<AxesSubplot:xlabel='date'>"
      ]
     },
     "execution_count": 104,
     "metadata": {},
     "output_type": "execute_result"
    },
    {
     "data": {
      "image/png": "[encoded data removed]",
      "text/plain": [
       "<Figure size 1008x432 with 1 Axes>"
      ]
     },
     "metadata": {
      "needs_background": "light"
     },
     "output_type": "display_data"
    }
   ],
   "source": [
    "test_1.int_spx.plot(legend=True,figsize =(14,6))\n",
    "df_forecast_2.int_spx.rename('Predicted_Int_SPX MODEL').plot(legend=True)"
   ]
  },
  {
   "cell_type": "code",
   "execution_count": 105,
   "metadata": {},
   "outputs": [
    {
     "name": "stdout",
     "output_type": "stream",
     "text": [
      "21.351203961347185\n"
     ]
    }
   ],
   "source": [
    "print(np.sqrt(mean_squared_error(test_1.int_spx,df_forecast_2.int_spx )))"
   ]
  },
  {
   "cell_type": "code",
   "execution_count": 106,
   "metadata": {},
   "outputs": [],
   "source": [
    "from sklearn.metrics import r2_score"
   ]
  },
  {
   "cell_type": "code",
   "execution_count": 107,
   "metadata": {},
   "outputs": [
    {
     "name": "stdout",
     "output_type": "stream",
     "text": [
      "-1.0475933601454424\n"
     ]
    }
   ],
   "source": [
    "print(r2_score(test_1.int_spx,df_forecast_2.int_spx))"
   ]
  },
  {
   "cell_type": "markdown",
   "metadata": {},
   "source": [
    "# the Vector Auto Moving Regression has an rms of 21.35"
   ]
  },
  {
   "cell_type": "markdown",
   "metadata": {},
   "source": [
    "# SUMMARIZING THIS STUDY ON THIS NOTE BOOK, SO FAR, THE VECTOR AUTO REGRESSION HAS PERFORMED BETTER THAN THE CLASSICAL AND VECTOR AUTO MOVING REGRESSION.\n",
    "\n",
    "# FURTHER EFFORT WILL BE TO SIMULATE USING RECONVULTIONAL NEURAL NETWORK AND FACEBOOK PROPHET AND MAKE FINAL CONCLUSION\n",
    "\n",
    "# ON THE MODEL THAT PERFORM BEST."
   ]
  },
  {
   "cell_type": "raw",
   "metadata": {},
   "source": [
    "# Thanks\n",
    "\n",
    "# HENRY NWACHUKWU.,"
   ]
  }
 ],
 "metadata": {
  "kernelspec": {
   "display_name": "Python 3",
   "language": "python",
   "name": "python3"
  },
  "language_info": {
   "codemirror_mode": {
    "name": "ipython",
    "version": 3
   },
   "file_extension": ".py",
   "mimetype": "text/x-python",
   "name": "python",
   "nbconvert_exporter": "python",
   "pygments_lexer": "ipython3",
   "version": "3.8.5"
  }
 },
 "nbformat": 4,
 "nbformat_minor": 4
}
